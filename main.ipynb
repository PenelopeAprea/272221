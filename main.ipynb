{
 "cells": [
  {
   "attachments": {},
   "cell_type": "markdown",
   "metadata": {},
   "source": [
    "First of all we import the libraries and we read the file which contains the dataset"
   ]
  },
  {
   "cell_type": "code",
   "execution_count": 1,
   "metadata": {},
   "outputs": [],
   "source": [
    "import pandas as pd\n",
    "import numpy as np\n",
    "import seaborn as sns\n",
    "import matplotlib.pyplot as plt\n",
    "%matplotlib inline"
   ]
  },
  {
   "cell_type": "code",
   "execution_count": 2,
   "metadata": {},
   "outputs": [],
   "source": [
    "from sklearn.preprocessing import OneHotEncoder, LabelEncoder"
   ]
  },
  {
   "cell_type": "code",
   "execution_count": 3,
   "metadata": {},
   "outputs": [],
   "source": [
    "data = pd.read_csv('credit_prediction.csv')"
   ]
  },
  {
   "cell_type": "markdown",
   "metadata": {},
   "source": [
    "EXPLANATORY DATA ANALYSIS"
   ]
  },
  {
   "cell_type": "markdown",
   "metadata": {},
   "source": [
    "The .head command visualises the first rows of the dataset"
   ]
  },
  {
   "cell_type": "code",
   "execution_count": 4,
   "metadata": {},
   "outputs": [
    {
     "data": {
      "text/html": [
       "<div>\n",
       "<style scoped>\n",
       "    .dataframe tbody tr th:only-of-type {\n",
       "        vertical-align: middle;\n",
       "    }\n",
       "\n",
       "    .dataframe tbody tr th {\n",
       "        vertical-align: top;\n",
       "    }\n",
       "\n",
       "    .dataframe thead th {\n",
       "        text-align: right;\n",
       "    }\n",
       "</style>\n",
       "<table border=\"1\" class=\"dataframe\">\n",
       "  <thead>\n",
       "    <tr style=\"text-align: right;\">\n",
       "      <th></th>\n",
       "      <th>id</th>\n",
       "      <th>Age</th>\n",
       "      <th>Occupation</th>\n",
       "      <th>Annual_Income</th>\n",
       "      <th>Monthly_Inhand_Salary</th>\n",
       "      <th>Num_Bank_Accounts</th>\n",
       "      <th>Num_Credit_Card</th>\n",
       "      <th>Interest_Rate</th>\n",
       "      <th>Num_of_Loan</th>\n",
       "      <th>Type_of_Loan</th>\n",
       "      <th>...</th>\n",
       "      <th>Num_Credit_Inquiries</th>\n",
       "      <th>Credit_Mix</th>\n",
       "      <th>Outstanding_Debt</th>\n",
       "      <th>Credit_Utilization_Ratio</th>\n",
       "      <th>Credit_History_Age</th>\n",
       "      <th>Payment_of_Min_Amount</th>\n",
       "      <th>Amount_invested_monthly</th>\n",
       "      <th>Payment_Behaviour</th>\n",
       "      <th>Monthly_Balance</th>\n",
       "      <th>Credit_Score</th>\n",
       "    </tr>\n",
       "  </thead>\n",
       "  <tbody>\n",
       "    <tr>\n",
       "      <th>0</th>\n",
       "      <td>0</td>\n",
       "      <td>23.0</td>\n",
       "      <td>Scientist</td>\n",
       "      <td>19114.12</td>\n",
       "      <td>1824.843333</td>\n",
       "      <td>3.0</td>\n",
       "      <td>4.0</td>\n",
       "      <td>3.0</td>\n",
       "      <td>4.0</td>\n",
       "      <td>Auto Loan, Credit-Builder Loan, Personal Loan,...</td>\n",
       "      <td>...</td>\n",
       "      <td>4.0</td>\n",
       "      <td>Good</td>\n",
       "      <td>809.98</td>\n",
       "      <td>26.822620</td>\n",
       "      <td>265.0</td>\n",
       "      <td>No</td>\n",
       "      <td>80.415295</td>\n",
       "      <td>NaN</td>\n",
       "      <td>312.494089</td>\n",
       "      <td>Good</td>\n",
       "    </tr>\n",
       "    <tr>\n",
       "      <th>1</th>\n",
       "      <td>1</td>\n",
       "      <td>23.0</td>\n",
       "      <td>Scientist</td>\n",
       "      <td>NaN</td>\n",
       "      <td>1824.843333</td>\n",
       "      <td>3.0</td>\n",
       "      <td>4.0</td>\n",
       "      <td>3.0</td>\n",
       "      <td>4.0</td>\n",
       "      <td>Auto Loan, Credit-Builder Loan, Personal Loan,...</td>\n",
       "      <td>...</td>\n",
       "      <td>4.0</td>\n",
       "      <td>Good</td>\n",
       "      <td>809.98</td>\n",
       "      <td>NaN</td>\n",
       "      <td>266.0</td>\n",
       "      <td>No</td>\n",
       "      <td>118.280222</td>\n",
       "      <td>Low_spent_Large_value_payments</td>\n",
       "      <td>284.629162</td>\n",
       "      <td>Good</td>\n",
       "    </tr>\n",
       "    <tr>\n",
       "      <th>2</th>\n",
       "      <td>2</td>\n",
       "      <td>23.0</td>\n",
       "      <td>Scientist</td>\n",
       "      <td>19114.12</td>\n",
       "      <td>1824.843333</td>\n",
       "      <td>3.0</td>\n",
       "      <td>4.0</td>\n",
       "      <td>3.0</td>\n",
       "      <td>NaN</td>\n",
       "      <td>Auto Loan, Credit-Builder Loan, Personal Loan,...</td>\n",
       "      <td>...</td>\n",
       "      <td>4.0</td>\n",
       "      <td>Good</td>\n",
       "      <td>809.98</td>\n",
       "      <td>28.609352</td>\n",
       "      <td>267.0</td>\n",
       "      <td>No</td>\n",
       "      <td>81.699521</td>\n",
       "      <td>Low_spent_Medium_value_payments</td>\n",
       "      <td>331.209863</td>\n",
       "      <td>Good</td>\n",
       "    </tr>\n",
       "  </tbody>\n",
       "</table>\n",
       "<p>3 rows × 23 columns</p>\n",
       "</div>"
      ],
      "text/plain": [
       "   id   Age Occupation  Annual_Income  Monthly_Inhand_Salary  \\\n",
       "0   0  23.0  Scientist       19114.12            1824.843333   \n",
       "1   1  23.0  Scientist            NaN            1824.843333   \n",
       "2   2  23.0  Scientist       19114.12            1824.843333   \n",
       "\n",
       "   Num_Bank_Accounts  Num_Credit_Card  Interest_Rate  Num_of_Loan  \\\n",
       "0                3.0              4.0            3.0          4.0   \n",
       "1                3.0              4.0            3.0          4.0   \n",
       "2                3.0              4.0            3.0          NaN   \n",
       "\n",
       "                                        Type_of_Loan  ...  \\\n",
       "0  Auto Loan, Credit-Builder Loan, Personal Loan,...  ...   \n",
       "1  Auto Loan, Credit-Builder Loan, Personal Loan,...  ...   \n",
       "2  Auto Loan, Credit-Builder Loan, Personal Loan,...  ...   \n",
       "\n",
       "   Num_Credit_Inquiries  Credit_Mix  Outstanding_Debt  \\\n",
       "0                   4.0        Good            809.98   \n",
       "1                   4.0        Good            809.98   \n",
       "2                   4.0        Good            809.98   \n",
       "\n",
       "   Credit_Utilization_Ratio Credit_History_Age  Payment_of_Min_Amount  \\\n",
       "0                 26.822620              265.0                     No   \n",
       "1                       NaN              266.0                     No   \n",
       "2                 28.609352              267.0                     No   \n",
       "\n",
       "   Amount_invested_monthly                Payment_Behaviour Monthly_Balance  \\\n",
       "0                80.415295                              NaN      312.494089   \n",
       "1               118.280222   Low_spent_Large_value_payments      284.629162   \n",
       "2                81.699521  Low_spent_Medium_value_payments      331.209863   \n",
       "\n",
       "   Credit_Score  \n",
       "0          Good  \n",
       "1          Good  \n",
       "2          Good  \n",
       "\n",
       "[3 rows x 23 columns]"
      ]
     },
     "execution_count": 4,
     "metadata": {},
     "output_type": "execute_result"
    }
   ],
   "source": [
    "data.head(3)"
   ]
  },
  {
   "attachments": {},
   "cell_type": "markdown",
   "metadata": {},
   "source": [
    ".corr() shows the correlation between columns containing numerical values"
   ]
  },
  {
   "cell_type": "code",
   "execution_count": 5,
   "metadata": {},
   "outputs": [
    {
     "name": "stderr",
     "output_type": "stream",
     "text": [
      "C:\\Users\\LENOVO\\AppData\\Local\\Temp\\ipykernel_10556\\2032534905.py:1: FutureWarning: The default value of numeric_only in DataFrame.corr is deprecated. In a future version, it will default to False. Select only valid columns or specify the value of numeric_only to silence this warning.\n",
      "  corr_table = data.corr()\n"
     ]
    }
   ],
   "source": [
    "corr_table = data.corr()"
   ]
  },
  {
   "attachments": {},
   "cell_type": "markdown",
   "metadata": {},
   "source": [
    "With the following command we dive deeper into the general charateristics of the dataframe"
   ]
  },
  {
   "cell_type": "code",
   "execution_count": 6,
   "metadata": {},
   "outputs": [
    {
     "name": "stdout",
     "output_type": "stream",
     "text": [
      "Dataset info:\n",
      "<class 'pandas.core.frame.DataFrame'>\n",
      "RangeIndex: 100000 entries, 0 to 99999\n",
      "Data columns (total 23 columns):\n",
      " #   Column                    Non-Null Count   Dtype  \n",
      "---  ------                    --------------   -----  \n",
      " 0   id                        100000 non-null  int64  \n",
      " 1   Age                       90113 non-null   float64\n",
      " 2   Occupation                89954 non-null   object \n",
      " 3   Annual_Income             89811 non-null   float64\n",
      " 4   Monthly_Inhand_Salary     89881 non-null   float64\n",
      " 5   Num_Bank_Accounts         89935 non-null   float64\n",
      " 6   Num_Credit_Card           90131 non-null   float64\n",
      " 7   Interest_Rate             89999 non-null   float64\n",
      " 8   Num_of_Loan               90030 non-null   float64\n",
      " 9   Type_of_Loan              89921 non-null   object \n",
      " 10  Delay_from_due_date       90053 non-null   float64\n",
      " 11  Num_of_Delayed_Payment    89927 non-null   float64\n",
      " 12  Changed_Credit_Limit      90077 non-null   float64\n",
      " 13  Num_Credit_Inquiries      89971 non-null   float64\n",
      " 14  Credit_Mix                89895 non-null   object \n",
      " 15  Outstanding_Debt          90154 non-null   float64\n",
      " 16  Credit_Utilization_Ratio  89988 non-null   float64\n",
      " 17  Credit_History_Age        90016 non-null   float64\n",
      " 18  Payment_of_Min_Amount     90042 non-null   object \n",
      " 19  Amount_invested_monthly   89955 non-null   float64\n",
      " 20  Payment_Behaviour         89924 non-null   object \n",
      " 21  Monthly_Balance           90101 non-null   float64\n",
      " 22  Credit_Score              100000 non-null  object \n",
      "dtypes: float64(16), int64(1), object(6)\n",
      "memory usage: 17.5+ MB\n"
     ]
    },
    {
     "data": {
      "text/plain": [
       "None"
      ]
     },
     "metadata": {},
     "output_type": "display_data"
    },
    {
     "name": "stdout",
     "output_type": "stream",
     "text": [
      "\n",
      "Dataset shape:\n"
     ]
    },
    {
     "data": {
      "text/plain": [
       "(100000, 23)"
      ]
     },
     "metadata": {},
     "output_type": "display_data"
    },
    {
     "name": "stdout",
     "output_type": "stream",
     "text": [
      "\n",
      "Dataset description:\n"
     ]
    },
    {
     "data": {
      "text/html": [
       "<div>\n",
       "<style scoped>\n",
       "    .dataframe tbody tr th:only-of-type {\n",
       "        vertical-align: middle;\n",
       "    }\n",
       "\n",
       "    .dataframe tbody tr th {\n",
       "        vertical-align: top;\n",
       "    }\n",
       "\n",
       "    .dataframe thead th {\n",
       "        text-align: right;\n",
       "    }\n",
       "</style>\n",
       "<table border=\"1\" class=\"dataframe\">\n",
       "  <thead>\n",
       "    <tr style=\"text-align: right;\">\n",
       "      <th></th>\n",
       "      <th>id</th>\n",
       "      <th>Age</th>\n",
       "      <th>Annual_Income</th>\n",
       "      <th>Monthly_Inhand_Salary</th>\n",
       "      <th>Num_Bank_Accounts</th>\n",
       "      <th>Num_Credit_Card</th>\n",
       "      <th>Interest_Rate</th>\n",
       "      <th>Num_of_Loan</th>\n",
       "      <th>Delay_from_due_date</th>\n",
       "      <th>Num_of_Delayed_Payment</th>\n",
       "      <th>Changed_Credit_Limit</th>\n",
       "      <th>Num_Credit_Inquiries</th>\n",
       "      <th>Outstanding_Debt</th>\n",
       "      <th>Credit_Utilization_Ratio</th>\n",
       "      <th>Credit_History_Age</th>\n",
       "      <th>Amount_invested_monthly</th>\n",
       "      <th>Monthly_Balance</th>\n",
       "    </tr>\n",
       "  </thead>\n",
       "  <tbody>\n",
       "    <tr>\n",
       "      <th>count</th>\n",
       "      <td>100000.000000</td>\n",
       "      <td>90113.000000</td>\n",
       "      <td>89811.000000</td>\n",
       "      <td>89881.000000</td>\n",
       "      <td>89935.000000</td>\n",
       "      <td>90131.000000</td>\n",
       "      <td>89999.000000</td>\n",
       "      <td>90030.000000</td>\n",
       "      <td>90053.000000</td>\n",
       "      <td>89927.000000</td>\n",
       "      <td>90077.000000</td>\n",
       "      <td>89971.000000</td>\n",
       "      <td>90154.000000</td>\n",
       "      <td>89988.000000</td>\n",
       "      <td>90016.000000</td>\n",
       "      <td>89955.000000</td>\n",
       "      <td>9.010100e+04</td>\n",
       "    </tr>\n",
       "    <tr>\n",
       "      <th>mean</th>\n",
       "      <td>49999.500000</td>\n",
       "      <td>33.333914</td>\n",
       "      <td>50508.427543</td>\n",
       "      <td>4195.570378</td>\n",
       "      <td>5.362662</td>\n",
       "      <td>5.533756</td>\n",
       "      <td>14.523750</td>\n",
       "      <td>3.535210</td>\n",
       "      <td>21.073290</td>\n",
       "      <td>13.300655</td>\n",
       "      <td>10.472639</td>\n",
       "      <td>5.805604</td>\n",
       "      <td>1425.180996</td>\n",
       "      <td>32.286539</td>\n",
       "      <td>221.104315</td>\n",
       "      <td>647.642318</td>\n",
       "      <td>-3.699552e+22</td>\n",
       "    </tr>\n",
       "    <tr>\n",
       "      <th>std</th>\n",
       "      <td>28867.657797</td>\n",
       "      <td>10.765661</td>\n",
       "      <td>38260.589378</td>\n",
       "      <td>3187.983172</td>\n",
       "      <td>2.591123</td>\n",
       "      <td>2.068676</td>\n",
       "      <td>8.740063</td>\n",
       "      <td>2.449893</td>\n",
       "      <td>14.811333</td>\n",
       "      <td>6.264613</td>\n",
       "      <td>6.604692</td>\n",
       "      <td>3.871103</td>\n",
       "      <td>1153.400024</td>\n",
       "      <td>5.112481</td>\n",
       "      <td>99.670715</td>\n",
       "      <td>2078.487082</td>\n",
       "      <td>3.511497e+24</td>\n",
       "    </tr>\n",
       "    <tr>\n",
       "      <th>min</th>\n",
       "      <td>0.000000</td>\n",
       "      <td>14.000000</td>\n",
       "      <td>7005.930000</td>\n",
       "      <td>303.645417</td>\n",
       "      <td>-1.000000</td>\n",
       "      <td>0.000000</td>\n",
       "      <td>1.000000</td>\n",
       "      <td>0.000000</td>\n",
       "      <td>-1.000000</td>\n",
       "      <td>-2.000000</td>\n",
       "      <td>0.500000</td>\n",
       "      <td>0.000000</td>\n",
       "      <td>0.230000</td>\n",
       "      <td>20.100770</td>\n",
       "      <td>1.000000</td>\n",
       "      <td>0.000000</td>\n",
       "      <td>-3.333333e+26</td>\n",
       "    </tr>\n",
       "    <tr>\n",
       "      <th>25%</th>\n",
       "      <td>24999.750000</td>\n",
       "      <td>24.000000</td>\n",
       "      <td>19375.760000</td>\n",
       "      <td>1625.265833</td>\n",
       "      <td>3.000000</td>\n",
       "      <td>4.000000</td>\n",
       "      <td>7.000000</td>\n",
       "      <td>2.000000</td>\n",
       "      <td>10.000000</td>\n",
       "      <td>9.000000</td>\n",
       "      <td>5.380000</td>\n",
       "      <td>3.000000</td>\n",
       "      <td>566.210000</td>\n",
       "      <td>28.056378</td>\n",
       "      <td>144.000000</td>\n",
       "      <td>70.500462</td>\n",
       "      <td>2.675203e+02</td>\n",
       "    </tr>\n",
       "    <tr>\n",
       "      <th>50%</th>\n",
       "      <td>49999.500000</td>\n",
       "      <td>33.000000</td>\n",
       "      <td>37062.360000</td>\n",
       "      <td>3089.424167</td>\n",
       "      <td>5.000000</td>\n",
       "      <td>5.000000</td>\n",
       "      <td>13.000000</td>\n",
       "      <td>3.000000</td>\n",
       "      <td>18.000000</td>\n",
       "      <td>14.000000</td>\n",
       "      <td>9.410000</td>\n",
       "      <td>5.000000</td>\n",
       "      <td>1165.770000</td>\n",
       "      <td>32.306529</td>\n",
       "      <td>219.000000</td>\n",
       "      <td>130.603247</td>\n",
       "      <td>3.338268e+02</td>\n",
       "    </tr>\n",
       "    <tr>\n",
       "      <th>75%</th>\n",
       "      <td>74999.250000</td>\n",
       "      <td>42.000000</td>\n",
       "      <td>71690.050000</td>\n",
       "      <td>5955.740000</td>\n",
       "      <td>7.000000</td>\n",
       "      <td>7.000000</td>\n",
       "      <td>20.000000</td>\n",
       "      <td>5.000000</td>\n",
       "      <td>28.000000</td>\n",
       "      <td>18.000000</td>\n",
       "      <td>14.850000</td>\n",
       "      <td>8.000000</td>\n",
       "      <td>1945.030000</td>\n",
       "      <td>36.498857</td>\n",
       "      <td>302.000000</td>\n",
       "      <td>258.734805</td>\n",
       "      <td>4.635211e+02</td>\n",
       "    </tr>\n",
       "    <tr>\n",
       "      <th>max</th>\n",
       "      <td>99999.000000</td>\n",
       "      <td>56.000000</td>\n",
       "      <td>179987.280000</td>\n",
       "      <td>15204.633333</td>\n",
       "      <td>11.000000</td>\n",
       "      <td>11.000000</td>\n",
       "      <td>34.000000</td>\n",
       "      <td>9.000000</td>\n",
       "      <td>62.000000</td>\n",
       "      <td>25.000000</td>\n",
       "      <td>29.980000</td>\n",
       "      <td>17.000000</td>\n",
       "      <td>4998.070000</td>\n",
       "      <td>50.000000</td>\n",
       "      <td>404.000000</td>\n",
       "      <td>10000.000000</td>\n",
       "      <td>1.183931e+03</td>\n",
       "    </tr>\n",
       "  </tbody>\n",
       "</table>\n",
       "</div>"
      ],
      "text/plain": [
       "                  id           Age  Annual_Income  Monthly_Inhand_Salary  \\\n",
       "count  100000.000000  90113.000000   89811.000000           89881.000000   \n",
       "mean    49999.500000     33.333914   50508.427543            4195.570378   \n",
       "std     28867.657797     10.765661   38260.589378            3187.983172   \n",
       "min         0.000000     14.000000    7005.930000             303.645417   \n",
       "25%     24999.750000     24.000000   19375.760000            1625.265833   \n",
       "50%     49999.500000     33.000000   37062.360000            3089.424167   \n",
       "75%     74999.250000     42.000000   71690.050000            5955.740000   \n",
       "max     99999.000000     56.000000  179987.280000           15204.633333   \n",
       "\n",
       "       Num_Bank_Accounts  Num_Credit_Card  Interest_Rate   Num_of_Loan  \\\n",
       "count       89935.000000     90131.000000   89999.000000  90030.000000   \n",
       "mean            5.362662         5.533756      14.523750      3.535210   \n",
       "std             2.591123         2.068676       8.740063      2.449893   \n",
       "min            -1.000000         0.000000       1.000000      0.000000   \n",
       "25%             3.000000         4.000000       7.000000      2.000000   \n",
       "50%             5.000000         5.000000      13.000000      3.000000   \n",
       "75%             7.000000         7.000000      20.000000      5.000000   \n",
       "max            11.000000        11.000000      34.000000      9.000000   \n",
       "\n",
       "       Delay_from_due_date  Num_of_Delayed_Payment  Changed_Credit_Limit  \\\n",
       "count         90053.000000            89927.000000          90077.000000   \n",
       "mean             21.073290               13.300655             10.472639   \n",
       "std              14.811333                6.264613              6.604692   \n",
       "min              -1.000000               -2.000000              0.500000   \n",
       "25%              10.000000                9.000000              5.380000   \n",
       "50%              18.000000               14.000000              9.410000   \n",
       "75%              28.000000               18.000000             14.850000   \n",
       "max              62.000000               25.000000             29.980000   \n",
       "\n",
       "       Num_Credit_Inquiries  Outstanding_Debt  Credit_Utilization_Ratio  \\\n",
       "count          89971.000000      90154.000000              89988.000000   \n",
       "mean               5.805604       1425.180996                 32.286539   \n",
       "std                3.871103       1153.400024                  5.112481   \n",
       "min                0.000000          0.230000                 20.100770   \n",
       "25%                3.000000        566.210000                 28.056378   \n",
       "50%                5.000000       1165.770000                 32.306529   \n",
       "75%                8.000000       1945.030000                 36.498857   \n",
       "max               17.000000       4998.070000                 50.000000   \n",
       "\n",
       "       Credit_History_Age  Amount_invested_monthly  Monthly_Balance  \n",
       "count        90016.000000             89955.000000     9.010100e+04  \n",
       "mean           221.104315               647.642318    -3.699552e+22  \n",
       "std             99.670715              2078.487082     3.511497e+24  \n",
       "min              1.000000                 0.000000    -3.333333e+26  \n",
       "25%            144.000000                70.500462     2.675203e+02  \n",
       "50%            219.000000               130.603247     3.338268e+02  \n",
       "75%            302.000000               258.734805     4.635211e+02  \n",
       "max            404.000000             10000.000000     1.183931e+03  "
      ]
     },
     "metadata": {},
     "output_type": "display_data"
    }
   ],
   "source": [
    "print(\"Dataset info:\")\n",
    "display(data.info())\n",
    "print()\n",
    "print(\"Dataset shape:\")\n",
    "display(data.shape)\n",
    "print()\n",
    "print('Dataset description:')\n",
    "display(data.describe())\n"
   ]
  },
  {
   "attachments": {},
   "cell_type": "markdown",
   "metadata": {},
   "source": [
    "We decided to filter the columns whith high correlation, this way we can focus our analysis without repeating over similar informations"
   ]
  },
  {
   "cell_type": "code",
   "execution_count": 7,
   "metadata": {},
   "outputs": [
    {
     "data": {
      "text/html": [
       "<div>\n",
       "<style scoped>\n",
       "    .dataframe tbody tr th:only-of-type {\n",
       "        vertical-align: middle;\n",
       "    }\n",
       "\n",
       "    .dataframe tbody tr th {\n",
       "        vertical-align: top;\n",
       "    }\n",
       "\n",
       "    .dataframe thead th {\n",
       "        text-align: right;\n",
       "    }\n",
       "</style>\n",
       "<table border=\"1\" class=\"dataframe\">\n",
       "  <thead>\n",
       "    <tr style=\"text-align: right;\">\n",
       "      <th></th>\n",
       "      <th>id</th>\n",
       "      <th>Age</th>\n",
       "      <th>Annual_Income</th>\n",
       "      <th>Changed_Credit_Limit</th>\n",
       "      <th>Credit_Utilization_Ratio</th>\n",
       "      <th>Amount_invested_monthly</th>\n",
       "      <th>Monthly_Balance</th>\n",
       "    </tr>\n",
       "  </thead>\n",
       "  <tbody>\n",
       "    <tr>\n",
       "      <th>id</th>\n",
       "      <td>1.000000</td>\n",
       "      <td>0.004053</td>\n",
       "      <td>-0.005780</td>\n",
       "      <td>0.008625</td>\n",
       "      <td>-0.006853</td>\n",
       "      <td>0.004839</td>\n",
       "      <td>0.000779</td>\n",
       "    </tr>\n",
       "    <tr>\n",
       "      <th>Age</th>\n",
       "      <td>0.004053</td>\n",
       "      <td>1.000000</td>\n",
       "      <td>0.094214</td>\n",
       "      <td>-0.158929</td>\n",
       "      <td>0.023721</td>\n",
       "      <td>0.006597</td>\n",
       "      <td>-0.002635</td>\n",
       "    </tr>\n",
       "    <tr>\n",
       "      <th>Annual_Income</th>\n",
       "      <td>-0.005780</td>\n",
       "      <td>0.094214</td>\n",
       "      <td>1.000000</td>\n",
       "      <td>-0.177471</td>\n",
       "      <td>0.177065</td>\n",
       "      <td>0.055108</td>\n",
       "      <td>-0.004711</td>\n",
       "    </tr>\n",
       "    <tr>\n",
       "      <th>Monthly_Inhand_Salary</th>\n",
       "      <td>-0.003586</td>\n",
       "      <td>0.092432</td>\n",
       "      <td>0.998155</td>\n",
       "      <td>-0.175202</td>\n",
       "      <td>0.178518</td>\n",
       "      <td>0.053704</td>\n",
       "      <td>-0.004176</td>\n",
       "    </tr>\n",
       "    <tr>\n",
       "      <th>Num_Bank_Accounts</th>\n",
       "      <td>0.003776</td>\n",
       "      <td>-0.192405</td>\n",
       "      <td>-0.285732</td>\n",
       "      <td>0.333300</td>\n",
       "      <td>-0.070942</td>\n",
       "      <td>-0.015364</td>\n",
       "      <td>0.005845</td>\n",
       "    </tr>\n",
       "    <tr>\n",
       "      <th>Num_Credit_Card</th>\n",
       "      <td>-0.003119</td>\n",
       "      <td>-0.147670</td>\n",
       "      <td>-0.218083</td>\n",
       "      <td>0.253572</td>\n",
       "      <td>-0.055238</td>\n",
       "      <td>-0.010274</td>\n",
       "      <td>0.004964</td>\n",
       "    </tr>\n",
       "    <tr>\n",
       "      <th>Interest_Rate</th>\n",
       "      <td>0.003751</td>\n",
       "      <td>-0.218744</td>\n",
       "      <td>-0.302391</td>\n",
       "      <td>0.370325</td>\n",
       "      <td>-0.077353</td>\n",
       "      <td>-0.018500</td>\n",
       "      <td>0.004477</td>\n",
       "    </tr>\n",
       "    <tr>\n",
       "      <th>Num_of_Loan</th>\n",
       "      <td>-0.007748</td>\n",
       "      <td>-0.215283</td>\n",
       "      <td>-0.256766</td>\n",
       "      <td>0.374885</td>\n",
       "      <td>-0.101013</td>\n",
       "      <td>-0.012386</td>\n",
       "      <td>0.001958</td>\n",
       "    </tr>\n",
       "    <tr>\n",
       "      <th>Delay_from_due_date</th>\n",
       "      <td>-0.005714</td>\n",
       "      <td>-0.175110</td>\n",
       "      <td>-0.249761</td>\n",
       "      <td>0.296495</td>\n",
       "      <td>-0.064390</td>\n",
       "      <td>-0.009811</td>\n",
       "      <td>0.004988</td>\n",
       "    </tr>\n",
       "    <tr>\n",
       "      <th>Num_of_Delayed_Payment</th>\n",
       "      <td>0.003155</td>\n",
       "      <td>-0.186063</td>\n",
       "      <td>-0.287701</td>\n",
       "      <td>0.328173</td>\n",
       "      <td>-0.072964</td>\n",
       "      <td>-0.021178</td>\n",
       "      <td>0.007799</td>\n",
       "    </tr>\n",
       "    <tr>\n",
       "      <th>Changed_Credit_Limit</th>\n",
       "      <td>0.008625</td>\n",
       "      <td>-0.158929</td>\n",
       "      <td>-0.177471</td>\n",
       "      <td>1.000000</td>\n",
       "      <td>-0.046592</td>\n",
       "      <td>-0.008353</td>\n",
       "      <td>-0.000489</td>\n",
       "    </tr>\n",
       "    <tr>\n",
       "      <th>Num_Credit_Inquiries</th>\n",
       "      <td>-0.002343</td>\n",
       "      <td>-0.251603</td>\n",
       "      <td>-0.280632</td>\n",
       "      <td>0.383047</td>\n",
       "      <td>-0.079951</td>\n",
       "      <td>-0.017745</td>\n",
       "      <td>-0.002554</td>\n",
       "    </tr>\n",
       "    <tr>\n",
       "      <th>Outstanding_Debt</th>\n",
       "      <td>0.002999</td>\n",
       "      <td>-0.202975</td>\n",
       "      <td>-0.269997</td>\n",
       "      <td>0.463555</td>\n",
       "      <td>-0.072577</td>\n",
       "      <td>-0.013246</td>\n",
       "      <td>0.001235</td>\n",
       "    </tr>\n",
       "    <tr>\n",
       "      <th>Credit_Utilization_Ratio</th>\n",
       "      <td>-0.006853</td>\n",
       "      <td>0.023721</td>\n",
       "      <td>0.177065</td>\n",
       "      <td>-0.046592</td>\n",
       "      <td>1.000000</td>\n",
       "      <td>0.001987</td>\n",
       "      <td>-0.004748</td>\n",
       "    </tr>\n",
       "    <tr>\n",
       "      <th>Credit_History_Age</th>\n",
       "      <td>-0.006203</td>\n",
       "      <td>0.235896</td>\n",
       "      <td>0.272721</td>\n",
       "      <td>-0.430469</td>\n",
       "      <td>0.073614</td>\n",
       "      <td>0.016873</td>\n",
       "      <td>-0.003798</td>\n",
       "    </tr>\n",
       "    <tr>\n",
       "      <th>Amount_invested_monthly</th>\n",
       "      <td>0.004839</td>\n",
       "      <td>0.006597</td>\n",
       "      <td>0.055108</td>\n",
       "      <td>-0.008353</td>\n",
       "      <td>0.001987</td>\n",
       "      <td>1.000000</td>\n",
       "      <td>0.002295</td>\n",
       "    </tr>\n",
       "    <tr>\n",
       "      <th>Monthly_Balance</th>\n",
       "      <td>0.000779</td>\n",
       "      <td>-0.002635</td>\n",
       "      <td>-0.004711</td>\n",
       "      <td>-0.000489</td>\n",
       "      <td>-0.004748</td>\n",
       "      <td>0.002295</td>\n",
       "      <td>1.000000</td>\n",
       "    </tr>\n",
       "  </tbody>\n",
       "</table>\n",
       "</div>"
      ],
      "text/plain": [
       "                                id       Age  Annual_Income  \\\n",
       "id                        1.000000  0.004053      -0.005780   \n",
       "Age                       0.004053  1.000000       0.094214   \n",
       "Annual_Income            -0.005780  0.094214       1.000000   \n",
       "Monthly_Inhand_Salary    -0.003586  0.092432       0.998155   \n",
       "Num_Bank_Accounts         0.003776 -0.192405      -0.285732   \n",
       "Num_Credit_Card          -0.003119 -0.147670      -0.218083   \n",
       "Interest_Rate             0.003751 -0.218744      -0.302391   \n",
       "Num_of_Loan              -0.007748 -0.215283      -0.256766   \n",
       "Delay_from_due_date      -0.005714 -0.175110      -0.249761   \n",
       "Num_of_Delayed_Payment    0.003155 -0.186063      -0.287701   \n",
       "Changed_Credit_Limit      0.008625 -0.158929      -0.177471   \n",
       "Num_Credit_Inquiries     -0.002343 -0.251603      -0.280632   \n",
       "Outstanding_Debt          0.002999 -0.202975      -0.269997   \n",
       "Credit_Utilization_Ratio -0.006853  0.023721       0.177065   \n",
       "Credit_History_Age       -0.006203  0.235896       0.272721   \n",
       "Amount_invested_monthly   0.004839  0.006597       0.055108   \n",
       "Monthly_Balance           0.000779 -0.002635      -0.004711   \n",
       "\n",
       "                          Changed_Credit_Limit  Credit_Utilization_Ratio  \\\n",
       "id                                    0.008625                 -0.006853   \n",
       "Age                                  -0.158929                  0.023721   \n",
       "Annual_Income                        -0.177471                  0.177065   \n",
       "Monthly_Inhand_Salary                -0.175202                  0.178518   \n",
       "Num_Bank_Accounts                     0.333300                 -0.070942   \n",
       "Num_Credit_Card                       0.253572                 -0.055238   \n",
       "Interest_Rate                         0.370325                 -0.077353   \n",
       "Num_of_Loan                           0.374885                 -0.101013   \n",
       "Delay_from_due_date                   0.296495                 -0.064390   \n",
       "Num_of_Delayed_Payment                0.328173                 -0.072964   \n",
       "Changed_Credit_Limit                  1.000000                 -0.046592   \n",
       "Num_Credit_Inquiries                  0.383047                 -0.079951   \n",
       "Outstanding_Debt                      0.463555                 -0.072577   \n",
       "Credit_Utilization_Ratio             -0.046592                  1.000000   \n",
       "Credit_History_Age                   -0.430469                  0.073614   \n",
       "Amount_invested_monthly              -0.008353                  0.001987   \n",
       "Monthly_Balance                      -0.000489                 -0.004748   \n",
       "\n",
       "                          Amount_invested_monthly  Monthly_Balance  \n",
       "id                                       0.004839         0.000779  \n",
       "Age                                      0.006597        -0.002635  \n",
       "Annual_Income                            0.055108        -0.004711  \n",
       "Monthly_Inhand_Salary                    0.053704        -0.004176  \n",
       "Num_Bank_Accounts                       -0.015364         0.005845  \n",
       "Num_Credit_Card                         -0.010274         0.004964  \n",
       "Interest_Rate                           -0.018500         0.004477  \n",
       "Num_of_Loan                             -0.012386         0.001958  \n",
       "Delay_from_due_date                     -0.009811         0.004988  \n",
       "Num_of_Delayed_Payment                  -0.021178         0.007799  \n",
       "Changed_Credit_Limit                    -0.008353        -0.000489  \n",
       "Num_Credit_Inquiries                    -0.017745        -0.002554  \n",
       "Outstanding_Debt                        -0.013246         0.001235  \n",
       "Credit_Utilization_Ratio                 0.001987        -0.004748  \n",
       "Credit_History_Age                       0.016873        -0.003798  \n",
       "Amount_invested_monthly                  1.000000         0.002295  \n",
       "Monthly_Balance                          0.002295         1.000000  "
      ]
     },
     "execution_count": 7,
     "metadata": {},
     "output_type": "execute_result"
    }
   ],
   "source": [
    "\n",
    "from feature_engine.selection import DropCorrelatedFeatures\n",
    "\n",
    "tr = DropCorrelatedFeatures(variables= None, method= 'pearson', threshold= 0.7)\n",
    "\n",
    "corr_tr = tr.fit_transform(corr_table)\n",
    "\n",
    "corr_tr"
   ]
  },
  {
   "attachments": {},
   "cell_type": "markdown",
   "metadata": {},
   "source": [
    "Below we can see, through the histogram, that the distribution of the annual income is skewed to the left. This indicates that the data is composed of a majority of lower earning people, while it gets progressively less common towards the higher earning spots"
   ]
  },
  {
   "cell_type": "code",
   "execution_count": 8,
   "metadata": {},
   "outputs": [
    {
     "data": {
      "text/plain": [
       "<AxesSubplot: ylabel='Frequency'>"
      ]
     },
     "execution_count": 8,
     "metadata": {},
     "output_type": "execute_result"
    },
    {
     "data": {
      "image/png": "[encoded data removed]",
      "text/plain": [
       "<Figure size 432x288 with 1 Axes>"
      ]
     },
     "metadata": {
      "needs_background": "light"
     },
     "output_type": "display_data"
    }
   ],
   "source": [
    "data['Annual_Income'].plot(kind='hist')"
   ]
  },
  {
   "attachments": {},
   "cell_type": "markdown",
   "metadata": {},
   "source": [
    "The kernel density estimation shows that the credit limit is usually subject to relatively small changes, as it is to be remembered that the column shows the percentage change "
   ]
  },
  {
   "cell_type": "code",
   "execution_count": 9,
   "metadata": {},
   "outputs": [
    {
     "data": {
      "text/plain": [
       "<AxesSubplot: ylabel='Density'>"
      ]
     },
     "execution_count": 9,
     "metadata": {},
     "output_type": "execute_result"
    },
    {
     "data": {
      "image/png": "[encoded data removed]",
      "text/plain": [
       "<Figure size 432x288 with 1 Axes>"
      ]
     },
     "metadata": {
      "needs_background": "light"
     },
     "output_type": "display_data"
    }
   ],
   "source": [
    "data['Changed_Credit_Limit'].plot(kind='kde')"
   ]
  },
  {
   "attachments": {},
   "cell_type": "markdown",
   "metadata": {},
   "source": [
    "The following histogram shows the distribution of general credit card use, which peaks at slightly more than 35 times per user"
   ]
  },
  {
   "cell_type": "code",
   "execution_count": 10,
   "metadata": {},
   "outputs": [
    {
     "data": {
      "text/plain": [
       "<AxesSubplot: ylabel='Frequency'>"
      ]
     },
     "execution_count": 10,
     "metadata": {},
     "output_type": "execute_result"
    },
    {
     "data": {
      "image/png": "[encoded data removed]",
      "text/plain": [
       "<Figure size 432x288 with 1 Axes>"
      ]
     },
     "metadata": {
      "needs_background": "light"
     },
     "output_type": "display_data"
    }
   ],
   "source": [
    "data['Credit_Utilization_Ratio'].plot(kind='hist')"
   ]
  },
  {
   "attachments": {},
   "cell_type": "markdown",
   "metadata": {},
   "source": [
    "The following graph shows that a huge majority of investments are made on smaller sums, while only an elite can invest heavily"
   ]
  },
  {
   "cell_type": "code",
   "execution_count": 11,
   "metadata": {},
   "outputs": [
    {
     "data": {
      "text/plain": [
       "<AxesSubplot: ylabel='Frequency'>"
      ]
     },
     "execution_count": 11,
     "metadata": {},
     "output_type": "execute_result"
    },
    {
     "data": {
      "image/png": "[encoded data removed]",
      "text/plain": [
       "<Figure size 432x288 with 1 Axes>"
      ]
     },
     "metadata": {
      "needs_background": "light"
     },
     "output_type": "display_data"
    }
   ],
   "source": [
    "data['Amount_invested_monthly'].plot(kind='hist')"
   ]
  },
  {
   "cell_type": "markdown",
   "metadata": {},
   "source": [
    "In the graph below we are able to determine that almost every client ends its month in a slight loss"
   ]
  },
  {
   "cell_type": "code",
   "execution_count": 12,
   "metadata": {},
   "outputs": [
    {
     "data": {
      "text/plain": [
       "<AxesSubplot: ylabel='Frequency'>"
      ]
     },
     "execution_count": 12,
     "metadata": {},
     "output_type": "execute_result"
    },
    {
     "data": {
      "image/png": "[encoded data removed]",
      "text/plain": [
       "<Figure size 432x288 with 1 Axes>"
      ]
     },
     "metadata": {
      "needs_background": "light"
     },
     "output_type": "display_data"
    }
   ],
   "source": [
    "data['Monthly_Balance'].plot(kind='hist')"
   ]
  },
  {
   "cell_type": "markdown",
   "metadata": {},
   "source": [
    "DATASET PREPROCESSING"
   ]
  },
  {
   "attachments": {},
   "cell_type": "markdown",
   "metadata": {},
   "source": [
    "Below we chose to substitute the median of the columns containing numerical values to the missing ones. We separated every column in order to make it easier to work on, even if it meant that at the moment of running every individual cell would result less confortable"
   ]
  },
  {
   "cell_type": "code",
   "execution_count": 13,
   "metadata": {},
   "outputs": [
    {
     "data": {
      "text/plain": [
       "33.0"
      ]
     },
     "execution_count": 13,
     "metadata": {},
     "output_type": "execute_result"
    }
   ],
   "source": [
    "age = data['Age']\n",
    "age_median= age.median()\n",
    "age_median"
   ]
  },
  {
   "cell_type": "code",
   "execution_count": 14,
   "metadata": {},
   "outputs": [],
   "source": [
    "data['full_age']= age.isnull().astype(int)\n",
    "data['Age'].fillna(age_median, inplace=True)"
   ]
  },
  {
   "cell_type": "code",
   "execution_count": 15,
   "metadata": {},
   "outputs": [
    {
     "data": {
      "text/plain": [
       "37062.36"
      ]
     },
     "execution_count": 15,
     "metadata": {},
     "output_type": "execute_result"
    }
   ],
   "source": [
    "annual_income= data['Annual_Income']\n",
    "annual_income_median = annual_income.median()\n",
    "annual_income_median"
   ]
  },
  {
   "cell_type": "code",
   "execution_count": 16,
   "metadata": {},
   "outputs": [],
   "source": [
    "data['full_annual_income']= annual_income.isnull().astype(float)\n",
    "data['Annual_Income'].fillna(annual_income_median, inplace=True)"
   ]
  },
  {
   "cell_type": "code",
   "execution_count": 17,
   "metadata": {},
   "outputs": [
    {
     "data": {
      "text/plain": [
       "3089.42416666667"
      ]
     },
     "execution_count": 17,
     "metadata": {},
     "output_type": "execute_result"
    }
   ],
   "source": [
    "monthly_inhand = data['Monthly_Inhand_Salary']\n",
    "monthly_inhand_median = monthly_inhand.median()\n",
    "monthly_inhand_median"
   ]
  },
  {
   "cell_type": "code",
   "execution_count": 18,
   "metadata": {},
   "outputs": [],
   "source": [
    "data['full_monthly_inhand']= monthly_inhand.isnull().astype(float)\n",
    "data['Monthly_Inhand_Salary'].fillna(monthly_inhand_median, inplace=True)"
   ]
  },
  {
   "cell_type": "code",
   "execution_count": 19,
   "metadata": {},
   "outputs": [
    {
     "data": {
      "text/plain": [
       "5.0"
      ]
     },
     "execution_count": 19,
     "metadata": {},
     "output_type": "execute_result"
    }
   ],
   "source": [
    "num_bank_accs = data['Num_Bank_Accounts']\n",
    "num_bank_accs_median = num_bank_accs.median()\n",
    "num_bank_accs_median"
   ]
  },
  {
   "cell_type": "code",
   "execution_count": 20,
   "metadata": {},
   "outputs": [],
   "source": [
    "data['full_num_bank_accs']= num_bank_accs.isnull().astype(float)\n",
    "data['Num_Bank_Accounts'].fillna(num_bank_accs_median,inplace=True)"
   ]
  },
  {
   "cell_type": "code",
   "execution_count": 21,
   "metadata": {},
   "outputs": [
    {
     "data": {
      "text/plain": [
       "5.0"
      ]
     },
     "execution_count": 21,
     "metadata": {},
     "output_type": "execute_result"
    }
   ],
   "source": [
    "num_cred_cards = data['Num_Credit_Card']\n",
    "num_cred_cards_median = num_cred_cards.median()\n",
    "num_cred_cards_median"
   ]
  },
  {
   "cell_type": "code",
   "execution_count": 22,
   "metadata": {},
   "outputs": [],
   "source": [
    "data['full_num_cred_cards']= num_cred_cards.isnull().astype(float)\n",
    "data['Num_Credit_Card'].fillna(num_cred_cards_median, inplace=True)"
   ]
  },
  {
   "cell_type": "code",
   "execution_count": 23,
   "metadata": {},
   "outputs": [
    {
     "data": {
      "text/plain": [
       "13.0"
      ]
     },
     "execution_count": 23,
     "metadata": {},
     "output_type": "execute_result"
    }
   ],
   "source": [
    "interest_rate = data['Interest_Rate']\n",
    "interest_rate_median = interest_rate.median()\n",
    "interest_rate_median"
   ]
  },
  {
   "cell_type": "code",
   "execution_count": 24,
   "metadata": {},
   "outputs": [],
   "source": [
    "data['full_interest_rate']= interest_rate.isnull().astype(float)\n",
    "data['Interest_Rate'].fillna(interest_rate_median, inplace= True)"
   ]
  },
  {
   "cell_type": "code",
   "execution_count": 25,
   "metadata": {},
   "outputs": [
    {
     "data": {
      "text/plain": [
       "3.0"
      ]
     },
     "execution_count": 25,
     "metadata": {},
     "output_type": "execute_result"
    }
   ],
   "source": [
    "num_of_loan= data['Num_of_Loan']\n",
    "num_of_loan_median= num_of_loan.median()\n",
    "num_of_loan_median"
   ]
  },
  {
   "cell_type": "code",
   "execution_count": 26,
   "metadata": {},
   "outputs": [],
   "source": [
    "data['full_num_of_loan']= num_of_loan.isnull().astype(float)\n",
    "data['Num_of_Loan'].fillna(num_of_loan_median, inplace=True)"
   ]
  },
  {
   "cell_type": "code",
   "execution_count": 27,
   "metadata": {},
   "outputs": [
    {
     "data": {
      "text/plain": [
       "18.0"
      ]
     },
     "execution_count": 27,
     "metadata": {},
     "output_type": "execute_result"
    }
   ],
   "source": [
    "del_from_date = data['Delay_from_due_date']\n",
    "del_from_date_median= del_from_date.median()\n",
    "del_from_date_median"
   ]
  },
  {
   "cell_type": "code",
   "execution_count": 28,
   "metadata": {},
   "outputs": [],
   "source": [
    "data['full_del_from_date']= del_from_date.isnull().astype(float)\n",
    "data['Delay_from_due_date'].fillna(del_from_date_median, inplace=True)"
   ]
  },
  {
   "cell_type": "code",
   "execution_count": 29,
   "metadata": {},
   "outputs": [
    {
     "data": {
      "text/plain": [
       "14.0"
      ]
     },
     "execution_count": 29,
     "metadata": {},
     "output_type": "execute_result"
    }
   ],
   "source": [
    "num_del_payms = data['Num_of_Delayed_Payment']\n",
    "num_del_payms_median= num_del_payms.median()\n",
    "num_del_payms_median"
   ]
  },
  {
   "cell_type": "code",
   "execution_count": 30,
   "metadata": {},
   "outputs": [],
   "source": [
    "data['full_num_del_payms']= num_del_payms.isnull().astype(float)\n",
    "data['Num_of_Delayed_Payment'].fillna(num_del_payms_median, inplace=True)"
   ]
  },
  {
   "cell_type": "code",
   "execution_count": 31,
   "metadata": {},
   "outputs": [
    {
     "data": {
      "text/plain": [
       "9.41"
      ]
     },
     "execution_count": 31,
     "metadata": {},
     "output_type": "execute_result"
    }
   ],
   "source": [
    "changed_credit_lim= data['Changed_Credit_Limit']\n",
    "changed_credit_lim_median= changed_credit_lim.median()\n",
    "changed_credit_lim_median"
   ]
  },
  {
   "cell_type": "code",
   "execution_count": 32,
   "metadata": {},
   "outputs": [],
   "source": [
    "data['full_changed_credit']= changed_credit_lim.isnull().astype(float)\n",
    "data['Changed_Credit_Limit'].fillna(changed_credit_lim_median, inplace=True)"
   ]
  },
  {
   "cell_type": "code",
   "execution_count": 33,
   "metadata": {},
   "outputs": [
    {
     "data": {
      "text/plain": [
       "5.0"
      ]
     },
     "execution_count": 33,
     "metadata": {},
     "output_type": "execute_result"
    }
   ],
   "source": [
    "num_cred_inq = data['Num_Credit_Inquiries']\n",
    "num_cred_inq_median = num_cred_inq.median()\n",
    "num_cred_inq_median"
   ]
  },
  {
   "cell_type": "code",
   "execution_count": 34,
   "metadata": {},
   "outputs": [],
   "source": [
    "data['full_num_cred_inq']= num_cred_inq.isnull().astype(float)\n",
    "data['Num_Credit_Inquiries'].fillna(num_cred_inq_median, inplace=True)"
   ]
  },
  {
   "cell_type": "code",
   "execution_count": 35,
   "metadata": {},
   "outputs": [
    {
     "data": {
      "text/plain": [
       "1165.77"
      ]
     },
     "execution_count": 35,
     "metadata": {},
     "output_type": "execute_result"
    }
   ],
   "source": [
    "outstanding_debt= data['Outstanding_Debt']\n",
    "outstanding_debt_median= outstanding_debt.median()\n",
    "outstanding_debt_median"
   ]
  },
  {
   "cell_type": "code",
   "execution_count": 36,
   "metadata": {},
   "outputs": [],
   "source": [
    "data['full_outstanding_debt']= outstanding_debt.isnull().astype(float)\n",
    "data['Outstanding_Debt'].fillna(outstanding_debt_median, inplace=True)"
   ]
  },
  {
   "cell_type": "code",
   "execution_count": 37,
   "metadata": {},
   "outputs": [
    {
     "data": {
      "text/plain": [
       "32.306529174714896"
      ]
     },
     "execution_count": 37,
     "metadata": {},
     "output_type": "execute_result"
    }
   ],
   "source": [
    "credit_util_ratio= data['Credit_Utilization_Ratio']\n",
    "credit_util_ratio_median = credit_util_ratio.median()\n",
    "credit_util_ratio_median"
   ]
  },
  {
   "cell_type": "code",
   "execution_count": 38,
   "metadata": {},
   "outputs": [],
   "source": [
    "data['full_credit_util']= credit_util_ratio.isnull().astype(float)\n",
    "data['Credit_Utilization_Ratio'].fillna(credit_util_ratio_median,inplace=True)"
   ]
  },
  {
   "cell_type": "code",
   "execution_count": 39,
   "metadata": {},
   "outputs": [
    {
     "data": {
      "text/plain": [
       "219.0"
      ]
     },
     "execution_count": 39,
     "metadata": {},
     "output_type": "execute_result"
    }
   ],
   "source": [
    "credit_hist= data['Credit_History_Age']\n",
    "credit_hist_median= credit_hist.median()\n",
    "credit_hist_median"
   ]
  },
  {
   "cell_type": "code",
   "execution_count": 40,
   "metadata": {},
   "outputs": [],
   "source": [
    "data['full_credit_hist']= credit_hist.isnull().astype(float)\n",
    "data['Credit_History_Age'].fillna(credit_hist_median, inplace=True)"
   ]
  },
  {
   "cell_type": "code",
   "execution_count": 41,
   "metadata": {},
   "outputs": [
    {
     "data": {
      "text/plain": [
       "130.603246899645"
      ]
     },
     "execution_count": 41,
     "metadata": {},
     "output_type": "execute_result"
    }
   ],
   "source": [
    "monthly_invest= data['Amount_invested_monthly']\n",
    "monthly_invest_median= monthly_invest.median()\n",
    "monthly_invest_median"
   ]
  },
  {
   "cell_type": "code",
   "execution_count": 42,
   "metadata": {},
   "outputs": [],
   "source": [
    "data['full_monthly_invest']= monthly_invest.isnull().astype(float)\n",
    "data['Amount_invested_monthly'].fillna(monthly_invest_median, inplace=True)"
   ]
  },
  {
   "cell_type": "code",
   "execution_count": 43,
   "metadata": {},
   "outputs": [
    {
     "data": {
      "text/plain": [
       "333.82683967306"
      ]
     },
     "execution_count": 43,
     "metadata": {},
     "output_type": "execute_result"
    }
   ],
   "source": [
    "monthly_bal= data['Monthly_Balance']\n",
    "monthly_bal_median= monthly_bal.median()\n",
    "monthly_bal_median"
   ]
  },
  {
   "cell_type": "code",
   "execution_count": 44,
   "metadata": {},
   "outputs": [],
   "source": [
    "data['full_monthly_bal']= monthly_bal.isnull().astype(float)\n",
    "data['Monthly_Balance'].fillna(monthly_bal_median, inplace=True)"
   ]
  },
  {
   "attachments": {},
   "cell_type": "markdown",
   "metadata": {},
   "source": [
    "We decided to drop the columns added during the preprocessing of the above columns in order to keep the dataset tidy"
   ]
  },
  {
   "cell_type": "code",
   "execution_count": 45,
   "metadata": {},
   "outputs": [],
   "source": [
    "data.drop(data.iloc[:,23:],inplace=True, axis=1)"
   ]
  },
  {
   "cell_type": "markdown",
   "metadata": {},
   "source": [
    "Below are the prepocessings of the columns containing categorical values, in this case we decided to implement both LabelEncoder and OneHot encoding in order to make it easier to be used as part of the independent variable "
   ]
  },
  {
   "cell_type": "markdown",
   "metadata": {},
   "source": [
    "In the 'Occupation' column, as in a couple of others, the mode of the column is substituted to the missing values, which are later converted to numerical thanks to LabelEncoding"
   ]
  },
  {
   "cell_type": "code",
   "execution_count": 46,
   "metadata": {},
   "outputs": [
    {
     "data": {
      "text/plain": [
       "0    Lawyer\n",
       "Name: Occupation, dtype: object"
      ]
     },
     "execution_count": 46,
     "metadata": {},
     "output_type": "execute_result"
    }
   ],
   "source": [
    "occupation= data['Occupation']\n",
    "occupation_mode= occupation.mode()\n",
    "occupation_mode"
   ]
  },
  {
   "cell_type": "code",
   "execution_count": 47,
   "metadata": {},
   "outputs": [],
   "source": [
    "data['full_occ']= occupation.isnull().astype(object)\n",
    "data['Occupation'].fillna(occupation_mode, inplace=True)"
   ]
  },
  {
   "cell_type": "code",
   "execution_count": 48,
   "metadata": {},
   "outputs": [],
   "source": [
    "encoded_occ= LabelEncoder()\n",
    "data['Occupation'] = encoded_occ.fit_transform(data['Occupation'])"
   ]
  },
  {
   "cell_type": "markdown",
   "metadata": {},
   "source": [
    "In the following columns instead of the mode we decided to use the 'value_counts' command, which allowed to visualise the most frequent value and subsequently substitute it and directly susbtitute it "
   ]
  },
  {
   "cell_type": "code",
   "execution_count": 49,
   "metadata": {},
   "outputs": [
    {
     "data": {
      "text/plain": [
       "Type_of_Loan\n",
       "No Data                                                                                                                                                         10226\n",
       "Not Specified                                                                                                                                                    1275\n",
       "Credit-Builder Loan                                                                                                                                              1150\n",
       "Personal Loan                                                                                                                                                    1138\n",
       "Debt Consolidation Loan                                                                                                                                          1132\n",
       "                                                                                                                                                                ...  \n",
       "Payday Loan, Personal Loan, and Auto Loan                                                                                                                           3\n",
       "Payday Loan, Auto Loan, Auto Loan, Personal Loan, Debt Consolidation Loan, Auto Loan, and Auto Loan                                                                 3\n",
       "Mortgage Loan, Not Specified, Auto Loan, Student Loan, Personal Loan, and Not Specified                                                                             3\n",
       "Payday Loan, Home Equity Loan, Payday Loan, Debt Consolidation Loan, Personal Loan, Debt Consolidation Loan, and Debt Consolidation Loan                            3\n",
       "Credit-Builder Loan, Home Equity Loan, Personal Loan, Student Loan, Credit-Builder Loan, Personal Loan, Student Loan, Auto Loan, and Debt Consolidation Loan        3\n",
       "Length: 6261, dtype: int64"
      ]
     },
     "execution_count": 49,
     "metadata": {},
     "output_type": "execute_result"
    }
   ],
   "source": [
    "data.value_counts(data['Type_of_Loan'])"
   ]
  },
  {
   "cell_type": "code",
   "execution_count": 50,
   "metadata": {},
   "outputs": [],
   "source": [
    "data['Type_of_Loan'].fillna('No Data', inplace=True)"
   ]
  },
  {
   "cell_type": "code",
   "execution_count": 51,
   "metadata": {},
   "outputs": [],
   "source": [
    "encoded_type_loan= LabelEncoder()\n",
    "data['Type_of_Loan']= encoded_type_loan.fit_transform(data['Type_of_Loan'])"
   ]
  },
  {
   "cell_type": "code",
   "execution_count": 52,
   "metadata": {},
   "outputs": [
    {
     "data": {
      "text/plain": [
       "Credit_Mix\n",
       "Standard    41223\n",
       "Good        27173\n",
       "Bad         21499\n",
       "dtype: int64"
      ]
     },
     "execution_count": 52,
     "metadata": {},
     "output_type": "execute_result"
    }
   ],
   "source": [
    "data.value_counts(data['Credit_Mix'])"
   ]
  },
  {
   "cell_type": "code",
   "execution_count": 53,
   "metadata": {},
   "outputs": [],
   "source": [
    "data['Credit_Mix'].fillna('Standard', inplace=True)"
   ]
  },
  {
   "cell_type": "code",
   "execution_count": 54,
   "metadata": {},
   "outputs": [],
   "source": [
    "encoded_credit_mix = LabelEncoder()\n",
    "data['Credit_Mix']= encoded_credit_mix.fit_transform(data['Credit_Mix'])"
   ]
  },
  {
   "attachments": {},
   "cell_type": "markdown",
   "metadata": {},
   "source": [
    "We decided to implement OneHot encoding on the specific column 'Payment_of_Min_Amount' because it made sense to make use of the only 3 different values  "
   ]
  },
  {
   "cell_type": "code",
   "execution_count": 55,
   "metadata": {},
   "outputs": [
    {
     "data": {
      "text/plain": [
       "Payment_of_Min_Amount\n",
       "Yes    47077\n",
       "No     32079\n",
       "NM     10886\n",
       "dtype: int64"
      ]
     },
     "execution_count": 55,
     "metadata": {},
     "output_type": "execute_result"
    }
   ],
   "source": [
    "data.value_counts(data['Payment_of_Min_Amount'])"
   ]
  },
  {
   "cell_type": "code",
   "execution_count": 56,
   "metadata": {},
   "outputs": [
    {
     "data": {
      "text/plain": [
       "0    Yes\n",
       "Name: Payment_of_Min_Amount, dtype: object"
      ]
     },
     "execution_count": 56,
     "metadata": {},
     "output_type": "execute_result"
    }
   ],
   "source": [
    "paym_min_amount = data['Payment_of_Min_Amount']\n",
    "paym_min_amount_mode = paym_min_amount.mode()\n",
    "paym_min_amount_mode"
   ]
  },
  {
   "cell_type": "code",
   "execution_count": 57,
   "metadata": {},
   "outputs": [],
   "source": [
    "data['full_paym_min_amount']= paym_min_amount.isnull().astype(object)\n",
    "data['Payment_of_Min_Amount'].fillna(paym_min_amount_mode, inplace=True)"
   ]
  },
  {
   "cell_type": "code",
   "execution_count": 58,
   "metadata": {},
   "outputs": [
    {
     "data": {
      "text/html": [
       "<div>\n",
       "<style scoped>\n",
       "    .dataframe tbody tr th:only-of-type {\n",
       "        vertical-align: middle;\n",
       "    }\n",
       "\n",
       "    .dataframe tbody tr th {\n",
       "        vertical-align: top;\n",
       "    }\n",
       "\n",
       "    .dataframe thead th {\n",
       "        text-align: right;\n",
       "    }\n",
       "</style>\n",
       "<table border=\"1\" class=\"dataframe\">\n",
       "  <thead>\n",
       "    <tr style=\"text-align: right;\">\n",
       "      <th></th>\n",
       "      <th>id</th>\n",
       "      <th>Age</th>\n",
       "      <th>Occupation</th>\n",
       "      <th>Annual_Income</th>\n",
       "      <th>Monthly_Inhand_Salary</th>\n",
       "      <th>Num_Bank_Accounts</th>\n",
       "      <th>Num_Credit_Card</th>\n",
       "      <th>Interest_Rate</th>\n",
       "      <th>Num_of_Loan</th>\n",
       "      <th>Type_of_Loan</th>\n",
       "      <th>...</th>\n",
       "      <th>Credit_History_Age</th>\n",
       "      <th>Amount_invested_monthly</th>\n",
       "      <th>Payment_Behaviour</th>\n",
       "      <th>Monthly_Balance</th>\n",
       "      <th>Credit_Score</th>\n",
       "      <th>full_occ</th>\n",
       "      <th>full_paym_min_amount</th>\n",
       "      <th>Payment_of_Min_Amount_NM</th>\n",
       "      <th>Payment_of_Min_Amount_No</th>\n",
       "      <th>Payment_of_Min_Amount_Yes</th>\n",
       "    </tr>\n",
       "  </thead>\n",
       "  <tbody>\n",
       "    <tr>\n",
       "      <th>0</th>\n",
       "      <td>0</td>\n",
       "      <td>23.0</td>\n",
       "      <td>12</td>\n",
       "      <td>19114.12</td>\n",
       "      <td>1824.843333</td>\n",
       "      <td>3.0</td>\n",
       "      <td>4.0</td>\n",
       "      <td>3.0</td>\n",
       "      <td>4.0</td>\n",
       "      <td>128</td>\n",
       "      <td>...</td>\n",
       "      <td>265.0</td>\n",
       "      <td>80.415295</td>\n",
       "      <td>NaN</td>\n",
       "      <td>312.494089</td>\n",
       "      <td>Good</td>\n",
       "      <td>False</td>\n",
       "      <td>False</td>\n",
       "      <td>0</td>\n",
       "      <td>1</td>\n",
       "      <td>0</td>\n",
       "    </tr>\n",
       "    <tr>\n",
       "      <th>1</th>\n",
       "      <td>1</td>\n",
       "      <td>23.0</td>\n",
       "      <td>12</td>\n",
       "      <td>37062.36</td>\n",
       "      <td>1824.843333</td>\n",
       "      <td>3.0</td>\n",
       "      <td>4.0</td>\n",
       "      <td>3.0</td>\n",
       "      <td>4.0</td>\n",
       "      <td>128</td>\n",
       "      <td>...</td>\n",
       "      <td>266.0</td>\n",
       "      <td>118.280222</td>\n",
       "      <td>Low_spent_Large_value_payments</td>\n",
       "      <td>284.629162</td>\n",
       "      <td>Good</td>\n",
       "      <td>False</td>\n",
       "      <td>False</td>\n",
       "      <td>0</td>\n",
       "      <td>1</td>\n",
       "      <td>0</td>\n",
       "    </tr>\n",
       "  </tbody>\n",
       "</table>\n",
       "<p>2 rows × 27 columns</p>\n",
       "</div>"
      ],
      "text/plain": [
       "   id   Age  Occupation  Annual_Income  Monthly_Inhand_Salary  \\\n",
       "0   0  23.0          12       19114.12            1824.843333   \n",
       "1   1  23.0          12       37062.36            1824.843333   \n",
       "\n",
       "   Num_Bank_Accounts  Num_Credit_Card  Interest_Rate  Num_of_Loan  \\\n",
       "0                3.0              4.0            3.0          4.0   \n",
       "1                3.0              4.0            3.0          4.0   \n",
       "\n",
       "   Type_of_Loan  ...  Credit_History_Age  Amount_invested_monthly  \\\n",
       "0           128  ...               265.0                80.415295   \n",
       "1           128  ...               266.0               118.280222   \n",
       "\n",
       "                Payment_Behaviour  Monthly_Balance  Credit_Score  full_occ  \\\n",
       "0                             NaN       312.494089          Good     False   \n",
       "1  Low_spent_Large_value_payments       284.629162          Good     False   \n",
       "\n",
       "   full_paym_min_amount  Payment_of_Min_Amount_NM  Payment_of_Min_Amount_No  \\\n",
       "0                 False                         0                         1   \n",
       "1                 False                         0                         1   \n",
       "\n",
       "  Payment_of_Min_Amount_Yes  \n",
       "0                         0  \n",
       "1                         0  \n",
       "\n",
       "[2 rows x 27 columns]"
      ]
     },
     "execution_count": 58,
     "metadata": {},
     "output_type": "execute_result"
    }
   ],
   "source": [
    "data= pd.get_dummies(data, prefix=['Payment_of_Min_Amount'], columns=['Payment_of_Min_Amount'])\n",
    "data.head(2)"
   ]
  },
  {
   "cell_type": "code",
   "execution_count": 59,
   "metadata": {},
   "outputs": [
    {
     "data": {
      "text/plain": [
       "0    Low_spent_Small_value_payments\n",
       "Name: Payment_Behaviour, dtype: object"
      ]
     },
     "execution_count": 59,
     "metadata": {},
     "output_type": "execute_result"
    }
   ],
   "source": [
    "payment_behav = data['Payment_Behaviour']\n",
    "payment_behav_mode= data['Payment_Behaviour'].mode()\n",
    "payment_behav_mode"
   ]
  },
  {
   "cell_type": "code",
   "execution_count": 60,
   "metadata": {},
   "outputs": [],
   "source": [
    "data['full_paym_behav']= payment_behav.isnull().astype(object)\n",
    "data['Payment_Behaviour'].fillna(payment_behav_mode, inplace=True)"
   ]
  },
  {
   "cell_type": "code",
   "execution_count": 61,
   "metadata": {},
   "outputs": [
    {
     "data": {
      "text/plain": [
       "0        5.0\n",
       "1        3.0\n",
       "2        4.0\n",
       "3        5.0\n",
       "4        1.0\n",
       "        ... \n",
       "99995    0.0\n",
       "99996    1.0\n",
       "99997    0.0\n",
       "99998    3.0\n",
       "99999    1.0\n",
       "Name: Payment_Behaviour, Length: 100000, dtype: float64"
      ]
     },
     "execution_count": 61,
     "metadata": {},
     "output_type": "execute_result"
    }
   ],
   "source": [
    "encoded_behav = LabelEncoder()\n",
    "data['Payment_Behaviour']= encoded_behav.fit_transform(data['Payment_Behaviour'])\n",
    "data['Payment_Behaviour'].astype(float)"
   ]
  },
  {
   "cell_type": "code",
   "execution_count": 62,
   "metadata": {},
   "outputs": [
    {
     "data": {
      "text/plain": [
       "array(['Good', 'Standard', 'Poor'], dtype=object)"
      ]
     },
     "execution_count": 62,
     "metadata": {},
     "output_type": "execute_result"
    }
   ],
   "source": [
    "data['Credit_Score'].unique()"
   ]
  },
  {
   "attachments": {},
   "cell_type": "markdown",
   "metadata": {},
   "source": [
    "We convert the categorical values for \"to-be-predicted\" column \"Credit_Score\" into numerical values. "
   ]
  },
  {
   "cell_type": "code",
   "execution_count": 63,
   "metadata": {},
   "outputs": [],
   "source": [
    "convert_credit_score = {'Good' : 2, 'Standard' : 1, 'Poor' : 0}\n",
    "data['Credit_Score'] = data['Credit_Score'].apply(lambda x: convert_credit_score[x])"
   ]
  },
  {
   "cell_type": "code",
   "execution_count": 64,
   "metadata": {},
   "outputs": [],
   "source": [
    "data['full_occ'] = data['full_occ'].apply(lambda x: 1*x)\n",
    "data['full_paym_min_amount'] = data['full_paym_min_amount'].apply(lambda x: 1*x)\n",
    "# here we have logical values and we convert them by multiplying them by 1.\n",
    "# 1*False -> 0\n",
    "# 1*True -> 1\n",
    "data['full_paym_behav'] = data['full_paym_behav'].apply(lambda x: 1*x)\n"
   ]
  },
  {
   "cell_type": "markdown",
   "metadata": {},
   "source": [
    "### OUTLIERS REMOVAL"
   ]
  },
  {
   "attachments": {},
   "cell_type": "markdown",
   "metadata": {},
   "source": [
    "In simple terms, an outlier is an extremely high or extremely low data point relative to the nearest data point and the rest of the neighboring co-existing values in a data graph or dataset you're working with."
   ]
  },
  {
   "cell_type": "markdown",
   "metadata": {},
   "source": [
    "To remove the outliers, we compute the quartiles, which are needed to get the lower and upper bounds. Infact we need to check each value of the dataset and detect the presence of such outliers. \n",
    "We use the following formula to decide whether a value is an outliers or not:\n",
    "- lower_bound = Q1 - 1.5 * IQR\n",
    "- upper_bound = Q3 + 1.5 * IQR"
   ]
  },
  {
   "cell_type": "code",
   "execution_count": 65,
   "metadata": {},
   "outputs": [],
   "source": [
    "quartiles = data.quantile([0.25,0.75])"
   ]
  },
  {
   "cell_type": "code",
   "execution_count": 66,
   "metadata": {},
   "outputs": [
    {
     "data": {
      "text/html": [
       "<div>\n",
       "<style scoped>\n",
       "    .dataframe tbody tr th:only-of-type {\n",
       "        vertical-align: middle;\n",
       "    }\n",
       "\n",
       "    .dataframe tbody tr th {\n",
       "        vertical-align: top;\n",
       "    }\n",
       "\n",
       "    .dataframe thead th {\n",
       "        text-align: right;\n",
       "    }\n",
       "</style>\n",
       "<table border=\"1\" class=\"dataframe\">\n",
       "  <thead>\n",
       "    <tr style=\"text-align: right;\">\n",
       "      <th></th>\n",
       "      <th>id</th>\n",
       "      <th>Age</th>\n",
       "      <th>Occupation</th>\n",
       "      <th>Annual_Income</th>\n",
       "      <th>Monthly_Inhand_Salary</th>\n",
       "      <th>Num_Bank_Accounts</th>\n",
       "      <th>Num_Credit_Card</th>\n",
       "      <th>Interest_Rate</th>\n",
       "      <th>Num_of_Loan</th>\n",
       "      <th>Type_of_Loan</th>\n",
       "      <th>...</th>\n",
       "      <th>Amount_invested_monthly</th>\n",
       "      <th>Payment_Behaviour</th>\n",
       "      <th>Monthly_Balance</th>\n",
       "      <th>Credit_Score</th>\n",
       "      <th>full_occ</th>\n",
       "      <th>full_paym_min_amount</th>\n",
       "      <th>Payment_of_Min_Amount_NM</th>\n",
       "      <th>Payment_of_Min_Amount_No</th>\n",
       "      <th>Payment_of_Min_Amount_Yes</th>\n",
       "      <th>full_paym_behav</th>\n",
       "    </tr>\n",
       "  </thead>\n",
       "  <tbody>\n",
       "    <tr>\n",
       "      <th>0.25</th>\n",
       "      <td>24999.75</td>\n",
       "      <td>25.0</td>\n",
       "      <td>4.0</td>\n",
       "      <td>20347.965</td>\n",
       "      <td>1724.938333</td>\n",
       "      <td>4.0</td>\n",
       "      <td>4.0</td>\n",
       "      <td>8.0</td>\n",
       "      <td>2.0</td>\n",
       "      <td>2082.0</td>\n",
       "      <td>...</td>\n",
       "      <td>76.153684</td>\n",
       "      <td>1.0</td>\n",
       "      <td>274.410263</td>\n",
       "      <td>0.0</td>\n",
       "      <td>0.0</td>\n",
       "      <td>0.0</td>\n",
       "      <td>0.0</td>\n",
       "      <td>0.0</td>\n",
       "      <td>0.0</td>\n",
       "      <td>0.0</td>\n",
       "    </tr>\n",
       "    <tr>\n",
       "      <th>0.75</th>\n",
       "      <td>74999.25</td>\n",
       "      <td>41.0</td>\n",
       "      <td>12.0</td>\n",
       "      <td>67531.720</td>\n",
       "      <td>5582.570625</td>\n",
       "      <td>7.0</td>\n",
       "      <td>7.0</td>\n",
       "      <td>19.0</td>\n",
       "      <td>5.0</td>\n",
       "      <td>4275.0</td>\n",
       "      <td>...</td>\n",
       "      <td>234.756906</td>\n",
       "      <td>5.0</td>\n",
       "      <td>442.440011</td>\n",
       "      <td>1.0</td>\n",
       "      <td>0.0</td>\n",
       "      <td>0.0</td>\n",
       "      <td>0.0</td>\n",
       "      <td>1.0</td>\n",
       "      <td>1.0</td>\n",
       "      <td>0.0</td>\n",
       "    </tr>\n",
       "  </tbody>\n",
       "</table>\n",
       "<p>2 rows × 28 columns</p>\n",
       "</div>"
      ],
      "text/plain": [
       "            id   Age  Occupation  Annual_Income  Monthly_Inhand_Salary  \\\n",
       "0.25  24999.75  25.0         4.0      20347.965            1724.938333   \n",
       "0.75  74999.25  41.0        12.0      67531.720            5582.570625   \n",
       "\n",
       "      Num_Bank_Accounts  Num_Credit_Card  Interest_Rate  Num_of_Loan  \\\n",
       "0.25                4.0              4.0            8.0          2.0   \n",
       "0.75                7.0              7.0           19.0          5.0   \n",
       "\n",
       "      Type_of_Loan  ...  Amount_invested_monthly  Payment_Behaviour  \\\n",
       "0.25        2082.0  ...                76.153684                1.0   \n",
       "0.75        4275.0  ...               234.756906                5.0   \n",
       "\n",
       "      Monthly_Balance  Credit_Score  full_occ  full_paym_min_amount  \\\n",
       "0.25       274.410263           0.0       0.0                   0.0   \n",
       "0.75       442.440011           1.0       0.0                   0.0   \n",
       "\n",
       "      Payment_of_Min_Amount_NM  Payment_of_Min_Amount_No  \\\n",
       "0.25                       0.0                       0.0   \n",
       "0.75                       0.0                       1.0   \n",
       "\n",
       "      Payment_of_Min_Amount_Yes  full_paym_behav  \n",
       "0.25                        0.0              0.0  \n",
       "0.75                        1.0              0.0  \n",
       "\n",
       "[2 rows x 28 columns]"
      ]
     },
     "execution_count": 66,
     "metadata": {},
     "output_type": "execute_result"
    }
   ],
   "source": [
    "quartiles"
   ]
  },
  {
   "cell_type": "code",
   "execution_count": 67,
   "metadata": {},
   "outputs": [
    {
     "name": "stdout",
     "output_type": "stream",
     "text": [
      "Number of outliers for column id : 0\n",
      "Number of outliers for column Age : 0\n",
      "Number of outliers for column Occupation : 0\n",
      "Number of outliers for column Annual_Income : 3138\n",
      "Number of outliers for column Monthly_Inhand_Salary : 588\n",
      "Number of outliers for column Num_Bank_Accounts : 19\n",
      "Number of outliers for column Num_Credit_Card : 0\n",
      "Number of outliers for column Interest_Rate : 0\n",
      "Number of outliers for column Num_of_Loan : 0\n",
      "Number of outliers for column Type_of_Loan : 0\n",
      "Number of outliers for column Delay_from_due_date : 5755\n",
      "Number of outliers for column Num_of_Delayed_Payment : 0\n",
      "Number of outliers for column Changed_Credit_Limit : 2263\n",
      "Number of outliers for column Num_Credit_Inquiries : 519\n",
      "Number of outliers for column Credit_Mix : 0\n",
      "Number of outliers for column Outstanding_Debt : 4790\n",
      "Number of outliers for column Credit_Utilization_Ratio : 2\n",
      "Number of outliers for column Credit_History_Age : 0\n",
      "Number of outliers for column Amount_invested_monthly : 8825\n",
      "Number of outliers for column Payment_Behaviour : 0\n",
      "Number of outliers for column Monthly_Balance : 6726\n",
      "Number of outliers for column Credit_Score : 0\n",
      "Number of outliers for column full_occ : 6747\n",
      "Number of outliers for column full_paym_min_amount : 6087\n",
      "Number of outliers for column Payment_of_Min_Amount_NM : 6536\n",
      "Number of outliers for column Payment_of_Min_Amount_No : 0\n",
      "Number of outliers for column Payment_of_Min_Amount_Yes : 0\n",
      "Number of outliers for column full_paym_behav : 4836\n"
     ]
    }
   ],
   "source": [
    "for col in data.columns:\n",
    "    Q1 = quartiles[col][0.25]\n",
    "    Q3 = quartiles[col][0.75]\n",
    "    IQR = Q3 - Q1\n",
    "    lower_bound = Q1 - 1.5 * IQR\n",
    "    upper_bound = Q3 + 1.5 * IQR\n",
    "    outliers = data[ (data[col] < lower_bound) | (data[col] > upper_bound) ].index\n",
    "    print(\"Number of outliers for column\" , col, \":\", len(outliers))\n",
    "    data.drop(outliers, inplace=True) "
   ]
  },
  {
   "cell_type": "code",
   "execution_count": 68,
   "metadata": {},
   "outputs": [
    {
     "data": {
      "text/plain": [
       "43169"
      ]
     },
     "execution_count": 68,
     "metadata": {},
     "output_type": "execute_result"
    }
   ],
   "source": [
    "len(data)"
   ]
  },
  {
   "cell_type": "markdown",
   "metadata": {},
   "source": [
    "## Analysis"
   ]
  },
  {
   "attachments": {},
   "cell_type": "markdown",
   "metadata": {},
   "source": [
    "We set the entirety of the preprocessed columns as independent variable and 'Credit_Score' as dependent one"
   ]
  },
  {
   "cell_type": "code",
   "execution_count": 69,
   "metadata": {},
   "outputs": [
    {
     "data": {
      "text/plain": [
       "array([2, 2, 2, ..., 0, 0, 0], dtype=int64)"
      ]
     },
     "execution_count": 69,
     "metadata": {},
     "output_type": "execute_result"
    }
   ],
   "source": [
    "x = data.iloc[:,[1,2,3,4,5,6,7,8,9,10,11,12,13,14,15,16,17,18,19,20,24,25,26]].values\n",
    "y = data.loc[:,['Credit_Score']].values\n",
    "y.ravel()"
   ]
  },
  {
   "cell_type": "code",
   "execution_count": 70,
   "metadata": {},
   "outputs": [],
   "source": [
    "from sklearn.model_selection import train_test_split\n",
    "x_train, x_test, y_train, y_test = train_test_split(x, y, test_size = 0.25, random_state = 0)"
   ]
  },
  {
   "cell_type": "code",
   "execution_count": 71,
   "metadata": {},
   "outputs": [],
   "source": [
    "# Feature Scaling\n",
    "from sklearn.preprocessing import StandardScaler\n",
    "sc = StandardScaler()\n",
    "X_train = sc.fit_transform(x_train)\n",
    "X_test = sc.transform(x_test)"
   ]
  },
  {
   "attachments": {},
   "cell_type": "markdown",
   "metadata": {},
   "source": [
    "Now we implement the classifiers on the determined variables"
   ]
  },
  {
   "cell_type": "markdown",
   "metadata": {},
   "source": [
    "DECISION TREE"
   ]
  },
  {
   "cell_type": "code",
   "execution_count": 73,
   "metadata": {},
   "outputs": [],
   "source": [
    "from sklearn.metrics import classification_report"
   ]
  },
  {
   "cell_type": "code",
   "execution_count": 74,
   "metadata": {},
   "outputs": [
    {
     "name": "stdout",
     "output_type": "stream",
     "text": [
      "              precision    recall  f1-score   support\n",
      "\n",
      "           0       0.61      0.62      0.62      2927\n",
      "           1       0.71      0.70      0.71      5965\n",
      "           2       0.52      0.54      0.53      1901\n",
      "\n",
      "    accuracy                           0.65     10793\n",
      "   macro avg       0.62      0.62      0.62     10793\n",
      "weighted avg       0.65      0.65      0.65     10793\n",
      "\n"
     ]
    }
   ],
   "source": [
    "from sklearn.tree import DecisionTreeClassifier\n",
    "cls = DecisionTreeClassifier()\n",
    "cls.fit(X_train,y_train)\n",
    "y_pred = cls.predict(X_test)\n",
    "print(classification_report(y_test, y_pred))"
   ]
  },
  {
   "cell_type": "code",
   "execution_count": 75,
   "metadata": {},
   "outputs": [
    {
     "name": "stderr",
     "output_type": "stream",
     "text": [
      "C:\\Users\\LENOVO\\AppData\\Roaming\\Python\\Python310\\site-packages\\sklearn\\utils\\deprecation.py:87: FutureWarning: Function plot_confusion_matrix is deprecated; Function `plot_confusion_matrix` is deprecated in 1.0 and will be removed in 1.2. Use one of the class methods: ConfusionMatrixDisplay.from_predictions or ConfusionMatrixDisplay.from_estimator.\n",
      "  warnings.warn(msg, category=FutureWarning)\n"
     ]
    },
    {
     "data": {
      "image/png": "[encoded data removed]",
      "text/plain": [
       "<Figure size 432x288 with 2 Axes>"
      ]
     },
     "metadata": {
      "needs_background": "light"
     },
     "output_type": "display_data"
    }
   ],
   "source": [
    "from sklearn.metrics import confusion_matrix, plot_confusion_matrix\n",
    "\n",
    "cm_tree = confusion_matrix(y_test, y_pred)\n",
    "disp = plot_confusion_matrix(cls, X_test, y_test, cmap=plt.cm.Blues)"
   ]
  },
  {
   "attachments": {},
   "cell_type": "markdown",
   "metadata": {},
   "source": [
    "The results show a functioning classifier, but it is evident that the inaccuracies are dangerously frequent"
   ]
  },
  {
   "cell_type": "code",
   "execution_count": 76,
   "metadata": {},
   "outputs": [
    {
     "data": {
      "text/html": [
       "<style>#sk-container-id-1 {color: black;background-color: white;}#sk-container-id-1 pre{padding: 0;}#sk-container-id-1 div.sk-toggleable {background-color: white;}#sk-container-id-1 label.sk-toggleable__label {cursor: pointer;display: block;width: 100%;margin-bottom: 0;padding: 0.3em;box-sizing: border-box;text-align: center;}#sk-container-id-1 label.sk-toggleable__label-arrow:before {content: \"▸\";float: left;margin-right: 0.25em;color: #696969;}#sk-container-id-1 label.sk-toggleable__label-arrow:hover:before {color: black;}#sk-container-id-1 div.sk-estimator:hover label.sk-toggleable__label-arrow:before {color: black;}#sk-container-id-1 div.sk-toggleable__content {max-height: 0;max-width: 0;overflow: hidden;text-align: left;background-color: #f0f8ff;}#sk-container-id-1 div.sk-toggleable__content pre {margin: 0.2em;color: black;border-radius: 0.25em;background-color: #f0f8ff;}#sk-container-id-1 input.sk-toggleable__control:checked~div.sk-toggleable__content {max-height: 200px;max-width: 100%;overflow: auto;}#sk-container-id-1 input.sk-toggleable__control:checked~label.sk-toggleable__label-arrow:before {content: \"▾\";}#sk-container-id-1 div.sk-estimator input.sk-toggleable__control:checked~label.sk-toggleable__label {background-color: #d4ebff;}#sk-container-id-1 div.sk-label input.sk-toggleable__control:checked~label.sk-toggleable__label {background-color: #d4ebff;}#sk-container-id-1 input.sk-hidden--visually {border: 0;clip: rect(1px 1px 1px 1px);clip: rect(1px, 1px, 1px, 1px);height: 1px;margin: -1px;overflow: hidden;padding: 0;position: absolute;width: 1px;}#sk-container-id-1 div.sk-estimator {font-family: monospace;background-color: #f0f8ff;border: 1px dotted black;border-radius: 0.25em;box-sizing: border-box;margin-bottom: 0.5em;}#sk-container-id-1 div.sk-estimator:hover {background-color: #d4ebff;}#sk-container-id-1 div.sk-parallel-item::after {content: \"\";width: 100%;border-bottom: 1px solid gray;flex-grow: 1;}#sk-container-id-1 div.sk-label:hover label.sk-toggleable__label {background-color: #d4ebff;}#sk-container-id-1 div.sk-serial::before {content: \"\";position: absolute;border-left: 1px solid gray;box-sizing: border-box;top: 0;bottom: 0;left: 50%;z-index: 0;}#sk-container-id-1 div.sk-serial {display: flex;flex-direction: column;align-items: center;background-color: white;padding-right: 0.2em;padding-left: 0.2em;position: relative;}#sk-container-id-1 div.sk-item {position: relative;z-index: 1;}#sk-container-id-1 div.sk-parallel {display: flex;align-items: stretch;justify-content: center;background-color: white;position: relative;}#sk-container-id-1 div.sk-item::before, #sk-container-id-1 div.sk-parallel-item::before {content: \"\";position: absolute;border-left: 1px solid gray;box-sizing: border-box;top: 0;bottom: 0;left: 50%;z-index: -1;}#sk-container-id-1 div.sk-parallel-item {display: flex;flex-direction: column;z-index: 1;position: relative;background-color: white;}#sk-container-id-1 div.sk-parallel-item:first-child::after {align-self: flex-end;width: 50%;}#sk-container-id-1 div.sk-parallel-item:last-child::after {align-self: flex-start;width: 50%;}#sk-container-id-1 div.sk-parallel-item:only-child::after {width: 0;}#sk-container-id-1 div.sk-dashed-wrapped {border: 1px dashed gray;margin: 0 0.4em 0.5em 0.4em;box-sizing: border-box;padding-bottom: 0.4em;background-color: white;}#sk-container-id-1 div.sk-label label {font-family: monospace;font-weight: bold;display: inline-block;line-height: 1.2em;}#sk-container-id-1 div.sk-label-container {text-align: center;}#sk-container-id-1 div.sk-container {/* jupyter's `normalize.less` sets `[hidden] { display: none; }` but bootstrap.min.css set `[hidden] { display: none !important; }` so we also need the `!important` here to be able to override the default hidden behavior on the sphinx rendered scikit-learn.org. See: https://github.com/scikit-learn/scikit-learn/issues/21755 */display: inline-block !important;position: relative;}#sk-container-id-1 div.sk-text-repr-fallback {display: none;}</style><div id=\"sk-container-id-1\" class=\"sk-top-container\"><div class=\"sk-text-repr-fallback\"><pre>GridSearchCV(cv=10, estimator=DecisionTreeClassifier(),\n",
       "             param_grid={&#x27;criterion&#x27;: [&#x27;gini&#x27;, &#x27;entropy&#x27;],\n",
       "                         &#x27;splitter&#x27;: [&#x27;random&#x27;, &#x27;best&#x27;]},\n",
       "             scoring=&#x27;accuracy&#x27;)</pre><b>In a Jupyter environment, please rerun this cell to show the HTML representation or trust the notebook. <br />On GitHub, the HTML representation is unable to render, please try loading this page with nbviewer.org.</b></div><div class=\"sk-container\" hidden><div class=\"sk-item sk-dashed-wrapped\"><div class=\"sk-label-container\"><div class=\"sk-label sk-toggleable\"><input class=\"sk-toggleable__control sk-hidden--visually\" id=\"sk-estimator-id-1\" type=\"checkbox\" ><label for=\"sk-estimator-id-1\" class=\"sk-toggleable__label sk-toggleable__label-arrow\">GridSearchCV</label><div class=\"sk-toggleable__content\"><pre>GridSearchCV(cv=10, estimator=DecisionTreeClassifier(),\n",
       "             param_grid={&#x27;criterion&#x27;: [&#x27;gini&#x27;, &#x27;entropy&#x27;],\n",
       "                         &#x27;splitter&#x27;: [&#x27;random&#x27;, &#x27;best&#x27;]},\n",
       "             scoring=&#x27;accuracy&#x27;)</pre></div></div></div><div class=\"sk-parallel\"><div class=\"sk-parallel-item\"><div class=\"sk-item\"><div class=\"sk-label-container\"><div class=\"sk-label sk-toggleable\"><input class=\"sk-toggleable__control sk-hidden--visually\" id=\"sk-estimator-id-2\" type=\"checkbox\" ><label for=\"sk-estimator-id-2\" class=\"sk-toggleable__label sk-toggleable__label-arrow\">estimator: DecisionTreeClassifier</label><div class=\"sk-toggleable__content\"><pre>DecisionTreeClassifier()</pre></div></div></div><div class=\"sk-serial\"><div class=\"sk-item\"><div class=\"sk-estimator sk-toggleable\"><input class=\"sk-toggleable__control sk-hidden--visually\" id=\"sk-estimator-id-3\" type=\"checkbox\" ><label for=\"sk-estimator-id-3\" class=\"sk-toggleable__label sk-toggleable__label-arrow\">DecisionTreeClassifier</label><div class=\"sk-toggleable__content\"><pre>DecisionTreeClassifier()</pre></div></div></div></div></div></div></div></div></div></div>"
      ],
      "text/plain": [
       "GridSearchCV(cv=10, estimator=DecisionTreeClassifier(),\n",
       "             param_grid={'criterion': ['gini', 'entropy'],\n",
       "                         'splitter': ['random', 'best']},\n",
       "             scoring='accuracy')"
      ]
     },
     "execution_count": 76,
     "metadata": {},
     "output_type": "execute_result"
    }
   ],
   "source": [
    "from sklearn.model_selection import GridSearchCV\n",
    "grid = {'criterion': ['gini', 'entropy'], 'splitter': ['random', 'best']}\n",
    "classifier = DecisionTreeClassifier()\n",
    "clf_grid = GridSearchCV(classifier, grid, cv=10, scoring='accuracy')\n",
    "clf_grid.fit(X_train,y_train)"
   ]
  },
  {
   "cell_type": "code",
   "execution_count": 77,
   "metadata": {},
   "outputs": [
    {
     "data": {
      "text/plain": [
       "{'criterion': 'gini', 'splitter': 'best'}"
      ]
     },
     "execution_count": 77,
     "metadata": {},
     "output_type": "execute_result"
    }
   ],
   "source": [
    "clf_grid.best_params_"
   ]
  },
  {
   "cell_type": "code",
   "execution_count": 78,
   "metadata": {},
   "outputs": [
    {
     "data": {
      "text/html": [
       "<div>\n",
       "<style scoped>\n",
       "    .dataframe tbody tr th:only-of-type {\n",
       "        vertical-align: middle;\n",
       "    }\n",
       "\n",
       "    .dataframe tbody tr th {\n",
       "        vertical-align: top;\n",
       "    }\n",
       "\n",
       "    .dataframe thead th {\n",
       "        text-align: right;\n",
       "    }\n",
       "</style>\n",
       "<table border=\"1\" class=\"dataframe\">\n",
       "  <thead>\n",
       "    <tr style=\"text-align: right;\">\n",
       "      <th></th>\n",
       "      <th>mean_fit_time</th>\n",
       "      <th>std_fit_time</th>\n",
       "      <th>mean_score_time</th>\n",
       "      <th>std_score_time</th>\n",
       "      <th>param_criterion</th>\n",
       "      <th>param_splitter</th>\n",
       "      <th>params</th>\n",
       "      <th>split0_test_score</th>\n",
       "      <th>split1_test_score</th>\n",
       "      <th>split2_test_score</th>\n",
       "      <th>split3_test_score</th>\n",
       "      <th>split4_test_score</th>\n",
       "      <th>split5_test_score</th>\n",
       "      <th>split6_test_score</th>\n",
       "      <th>split7_test_score</th>\n",
       "      <th>split8_test_score</th>\n",
       "      <th>split9_test_score</th>\n",
       "      <th>mean_test_score</th>\n",
       "      <th>std_test_score</th>\n",
       "      <th>rank_test_score</th>\n",
       "    </tr>\n",
       "  </thead>\n",
       "  <tbody>\n",
       "    <tr>\n",
       "      <th>0</th>\n",
       "      <td>0.170698</td>\n",
       "      <td>0.048391</td>\n",
       "      <td>0.001998</td>\n",
       "      <td>0.000446</td>\n",
       "      <td>gini</td>\n",
       "      <td>random</td>\n",
       "      <td>{'criterion': 'gini', 'splitter': 'random'}</td>\n",
       "      <td>0.645460</td>\n",
       "      <td>0.645769</td>\n",
       "      <td>0.651328</td>\n",
       "      <td>0.646078</td>\n",
       "      <td>0.642989</td>\n",
       "      <td>0.648857</td>\n",
       "      <td>0.649676</td>\n",
       "      <td>0.637627</td>\n",
       "      <td>0.653692</td>\n",
       "      <td>0.657708</td>\n",
       "      <td>0.647918</td>\n",
       "      <td>0.005376</td>\n",
       "      <td>4</td>\n",
       "    </tr>\n",
       "    <tr>\n",
       "      <th>1</th>\n",
       "      <td>0.811986</td>\n",
       "      <td>0.025952</td>\n",
       "      <td>0.001891</td>\n",
       "      <td>0.000299</td>\n",
       "      <td>gini</td>\n",
       "      <td>best</td>\n",
       "      <td>{'criterion': 'gini', 'splitter': 'best'}</td>\n",
       "      <td>0.658431</td>\n",
       "      <td>0.656578</td>\n",
       "      <td>0.670476</td>\n",
       "      <td>0.652254</td>\n",
       "      <td>0.659666</td>\n",
       "      <td>0.652254</td>\n",
       "      <td>0.662342</td>\n",
       "      <td>0.654310</td>\n",
       "      <td>0.655236</td>\n",
       "      <td>0.667593</td>\n",
       "      <td>0.658914</td>\n",
       "      <td>0.005920</td>\n",
       "      <td>1</td>\n",
       "    </tr>\n",
       "    <tr>\n",
       "      <th>2</th>\n",
       "      <td>0.153129</td>\n",
       "      <td>0.003470</td>\n",
       "      <td>0.001599</td>\n",
       "      <td>0.000484</td>\n",
       "      <td>entropy</td>\n",
       "      <td>random</td>\n",
       "      <td>{'criterion': 'entropy', 'splitter': 'random'}</td>\n",
       "      <td>0.666461</td>\n",
       "      <td>0.659975</td>\n",
       "      <td>0.635269</td>\n",
       "      <td>0.646387</td>\n",
       "      <td>0.653490</td>\n",
       "      <td>0.664299</td>\n",
       "      <td>0.647822</td>\n",
       "      <td>0.660488</td>\n",
       "      <td>0.664195</td>\n",
       "      <td>0.648440</td>\n",
       "      <td>0.654683</td>\n",
       "      <td>0.009574</td>\n",
       "      <td>3</td>\n",
       "    </tr>\n",
       "    <tr>\n",
       "      <th>3</th>\n",
       "      <td>1.068776</td>\n",
       "      <td>0.031533</td>\n",
       "      <td>0.001396</td>\n",
       "      <td>0.000489</td>\n",
       "      <td>entropy</td>\n",
       "      <td>best</td>\n",
       "      <td>{'criterion': 'entropy', 'splitter': 'best'}</td>\n",
       "      <td>0.670167</td>\n",
       "      <td>0.655034</td>\n",
       "      <td>0.659049</td>\n",
       "      <td>0.661519</td>\n",
       "      <td>0.667078</td>\n",
       "      <td>0.647313</td>\n",
       "      <td>0.666976</td>\n",
       "      <td>0.656781</td>\n",
       "      <td>0.649676</td>\n",
       "      <td>0.655545</td>\n",
       "      <td>0.658914</td>\n",
       "      <td>0.007183</td>\n",
       "      <td>2</td>\n",
       "    </tr>\n",
       "  </tbody>\n",
       "</table>\n",
       "</div>"
      ],
      "text/plain": [
       "   mean_fit_time  std_fit_time  mean_score_time  std_score_time  \\\n",
       "0       0.170698      0.048391         0.001998        0.000446   \n",
       "1       0.811986      0.025952         0.001891        0.000299   \n",
       "2       0.153129      0.003470         0.001599        0.000484   \n",
       "3       1.068776      0.031533         0.001396        0.000489   \n",
       "\n",
       "  param_criterion param_splitter  \\\n",
       "0            gini         random   \n",
       "1            gini           best   \n",
       "2         entropy         random   \n",
       "3         entropy           best   \n",
       "\n",
       "                                           params  split0_test_score  \\\n",
       "0     {'criterion': 'gini', 'splitter': 'random'}           0.645460   \n",
       "1       {'criterion': 'gini', 'splitter': 'best'}           0.658431   \n",
       "2  {'criterion': 'entropy', 'splitter': 'random'}           0.666461   \n",
       "3    {'criterion': 'entropy', 'splitter': 'best'}           0.670167   \n",
       "\n",
       "   split1_test_score  split2_test_score  split3_test_score  split4_test_score  \\\n",
       "0           0.645769           0.651328           0.646078           0.642989   \n",
       "1           0.656578           0.670476           0.652254           0.659666   \n",
       "2           0.659975           0.635269           0.646387           0.653490   \n",
       "3           0.655034           0.659049           0.661519           0.667078   \n",
       "\n",
       "   split5_test_score  split6_test_score  split7_test_score  split8_test_score  \\\n",
       "0           0.648857           0.649676           0.637627           0.653692   \n",
       "1           0.652254           0.662342           0.654310           0.655236   \n",
       "2           0.664299           0.647822           0.660488           0.664195   \n",
       "3           0.647313           0.666976           0.656781           0.649676   \n",
       "\n",
       "   split9_test_score  mean_test_score  std_test_score  rank_test_score  \n",
       "0           0.657708         0.647918        0.005376                4  \n",
       "1           0.667593         0.658914        0.005920                1  \n",
       "2           0.648440         0.654683        0.009574                3  \n",
       "3           0.655545         0.658914        0.007183                2  "
      ]
     },
     "execution_count": 78,
     "metadata": {},
     "output_type": "execute_result"
    }
   ],
   "source": [
    "clf_grid.cv_results_\n",
    "grid_table = pd.DataFrame(clf_grid.cv_results_)\n",
    "grid_table.head()"
   ]
  },
  {
   "cell_type": "code",
   "execution_count": 79,
   "metadata": {},
   "outputs": [
    {
     "name": "stdout",
     "output_type": "stream",
     "text": [
      "mean_fit_time\n",
      "std_fit_time\n",
      "mean_score_time\n",
      "std_score_time\n",
      "param_criterion\n",
      "param_splitter\n",
      "params\n",
      "split0_test_score\n",
      "split1_test_score\n",
      "split2_test_score\n",
      "split3_test_score\n",
      "split4_test_score\n",
      "split5_test_score\n",
      "split6_test_score\n",
      "split7_test_score\n",
      "split8_test_score\n",
      "split9_test_score\n",
      "mean_test_score\n",
      "std_test_score\n",
      "rank_test_score\n"
     ]
    }
   ],
   "source": [
    "for col in grid_table.columns:\n",
    "  print(col)"
   ]
  },
  {
   "cell_type": "code",
   "execution_count": 80,
   "metadata": {},
   "outputs": [
    {
     "data": {
      "text/html": [
       "<div>\n",
       "<style scoped>\n",
       "    .dataframe tbody tr th:only-of-type {\n",
       "        vertical-align: middle;\n",
       "    }\n",
       "\n",
       "    .dataframe tbody tr th {\n",
       "        vertical-align: top;\n",
       "    }\n",
       "\n",
       "    .dataframe thead th {\n",
       "        text-align: right;\n",
       "    }\n",
       "</style>\n",
       "<table border=\"1\" class=\"dataframe\">\n",
       "  <thead>\n",
       "    <tr style=\"text-align: right;\">\n",
       "      <th></th>\n",
       "      <th>params</th>\n",
       "      <th>mean_test_score</th>\n",
       "      <th>std_test_score</th>\n",
       "      <th>rank_test_score</th>\n",
       "    </tr>\n",
       "  </thead>\n",
       "  <tbody>\n",
       "    <tr>\n",
       "      <th>1</th>\n",
       "      <td>{'criterion': 'gini', 'splitter': 'best'}</td>\n",
       "      <td>0.658914</td>\n",
       "      <td>0.005920</td>\n",
       "      <td>1</td>\n",
       "    </tr>\n",
       "    <tr>\n",
       "      <th>3</th>\n",
       "      <td>{'criterion': 'entropy', 'splitter': 'best'}</td>\n",
       "      <td>0.658914</td>\n",
       "      <td>0.007183</td>\n",
       "      <td>2</td>\n",
       "    </tr>\n",
       "    <tr>\n",
       "      <th>2</th>\n",
       "      <td>{'criterion': 'entropy', 'splitter': 'random'}</td>\n",
       "      <td>0.654683</td>\n",
       "      <td>0.009574</td>\n",
       "      <td>3</td>\n",
       "    </tr>\n",
       "    <tr>\n",
       "      <th>0</th>\n",
       "      <td>{'criterion': 'gini', 'splitter': 'random'}</td>\n",
       "      <td>0.647918</td>\n",
       "      <td>0.005376</td>\n",
       "      <td>4</td>\n",
       "    </tr>\n",
       "  </tbody>\n",
       "</table>\n",
       "</div>"
      ],
      "text/plain": [
       "                                           params  mean_test_score  \\\n",
       "1       {'criterion': 'gini', 'splitter': 'best'}         0.658914   \n",
       "3    {'criterion': 'entropy', 'splitter': 'best'}         0.658914   \n",
       "2  {'criterion': 'entropy', 'splitter': 'random'}         0.654683   \n",
       "0     {'criterion': 'gini', 'splitter': 'random'}         0.647918   \n",
       "\n",
       "   std_test_score  rank_test_score  \n",
       "1        0.005920                1  \n",
       "3        0.007183                2  \n",
       "2        0.009574                3  \n",
       "0        0.005376                4  "
      ]
     },
     "execution_count": 80,
     "metadata": {},
     "output_type": "execute_result"
    }
   ],
   "source": [
    "grid_table_rank = grid_table[['params','mean_test_score','std_test_score','rank_test_score']].sort_values(by='rank_test_score', ascending=True)\n",
    "grid_table_rank"
   ]
  },
  {
   "cell_type": "markdown",
   "metadata": {},
   "source": [
    "### RANDOM FOREST"
   ]
  },
  {
   "cell_type": "code",
   "execution_count": 81,
   "metadata": {},
   "outputs": [
    {
     "name": "stdout",
     "output_type": "stream",
     "text": [
      "              precision    recall  f1-score   support\n",
      "\n",
      "           0       0.75      0.73      0.74      2927\n",
      "           1       0.80      0.79      0.79      5965\n",
      "           2       0.67      0.70      0.69      1901\n",
      "\n",
      "    accuracy                           0.76     10793\n",
      "   macro avg       0.74      0.74      0.74     10793\n",
      "weighted avg       0.76      0.76      0.76     10793\n",
      "\n"
     ]
    }
   ],
   "source": [
    "from sklearn.ensemble import RandomForestClassifier\n",
    "\n",
    "cls = RandomForestClassifier()\n",
    "cls.fit(X_train, y_train.ravel())\n",
    "y_pred = cls.predict(X_test)\n",
    "print(classification_report(y_test, y_pred))"
   ]
  },
  {
   "cell_type": "code",
   "execution_count": 82,
   "metadata": {},
   "outputs": [
    {
     "name": "stderr",
     "output_type": "stream",
     "text": [
      "C:\\Users\\LENOVO\\AppData\\Roaming\\Python\\Python310\\site-packages\\sklearn\\utils\\deprecation.py:87: FutureWarning: Function plot_confusion_matrix is deprecated; Function `plot_confusion_matrix` is deprecated in 1.0 and will be removed in 1.2. Use one of the class methods: ConfusionMatrixDisplay.from_predictions or ConfusionMatrixDisplay.from_estimator.\n",
      "  warnings.warn(msg, category=FutureWarning)\n"
     ]
    },
    {
     "data": {
      "image/png": "[encoded data removed]",
      "text/plain": [
       "<Figure size 432x288 with 2 Axes>"
      ]
     },
     "metadata": {
      "needs_background": "light"
     },
     "output_type": "display_data"
    }
   ],
   "source": [
    "from sklearn.metrics import confusion_matrix, plot_confusion_matrix\n",
    "cm_randf = confusion_matrix(y_test, y_pred)\n",
    "\n",
    "disp = plot_confusion_matrix(cls, X_test, y_test, cmap=plt.cm.Blues)"
   ]
  },
  {
   "attachments": {},
   "cell_type": "markdown",
   "metadata": {},
   "source": [
    "It is clearly shown, if confronted to the DT confusion matrix, the decrease in the number of inaccuracies. "
   ]
  },
  {
   "cell_type": "code",
   "execution_count": 83,
   "metadata": {},
   "outputs": [
    {
     "data": {
      "text/html": [
       "<style>#sk-container-id-2 {color: black;background-color: white;}#sk-container-id-2 pre{padding: 0;}#sk-container-id-2 div.sk-toggleable {background-color: white;}#sk-container-id-2 label.sk-toggleable__label {cursor: pointer;display: block;width: 100%;margin-bottom: 0;padding: 0.3em;box-sizing: border-box;text-align: center;}#sk-container-id-2 label.sk-toggleable__label-arrow:before {content: \"▸\";float: left;margin-right: 0.25em;color: #696969;}#sk-container-id-2 label.sk-toggleable__label-arrow:hover:before {color: black;}#sk-container-id-2 div.sk-estimator:hover label.sk-toggleable__label-arrow:before {color: black;}#sk-container-id-2 div.sk-toggleable__content {max-height: 0;max-width: 0;overflow: hidden;text-align: left;background-color: #f0f8ff;}#sk-container-id-2 div.sk-toggleable__content pre {margin: 0.2em;color: black;border-radius: 0.25em;background-color: #f0f8ff;}#sk-container-id-2 input.sk-toggleable__control:checked~div.sk-toggleable__content {max-height: 200px;max-width: 100%;overflow: auto;}#sk-container-id-2 input.sk-toggleable__control:checked~label.sk-toggleable__label-arrow:before {content: \"▾\";}#sk-container-id-2 div.sk-estimator input.sk-toggleable__control:checked~label.sk-toggleable__label {background-color: #d4ebff;}#sk-container-id-2 div.sk-label input.sk-toggleable__control:checked~label.sk-toggleable__label {background-color: #d4ebff;}#sk-container-id-2 input.sk-hidden--visually {border: 0;clip: rect(1px 1px 1px 1px);clip: rect(1px, 1px, 1px, 1px);height: 1px;margin: -1px;overflow: hidden;padding: 0;position: absolute;width: 1px;}#sk-container-id-2 div.sk-estimator {font-family: monospace;background-color: #f0f8ff;border: 1px dotted black;border-radius: 0.25em;box-sizing: border-box;margin-bottom: 0.5em;}#sk-container-id-2 div.sk-estimator:hover {background-color: #d4ebff;}#sk-container-id-2 div.sk-parallel-item::after {content: \"\";width: 100%;border-bottom: 1px solid gray;flex-grow: 1;}#sk-container-id-2 div.sk-label:hover label.sk-toggleable__label {background-color: #d4ebff;}#sk-container-id-2 div.sk-serial::before {content: \"\";position: absolute;border-left: 1px solid gray;box-sizing: border-box;top: 0;bottom: 0;left: 50%;z-index: 0;}#sk-container-id-2 div.sk-serial {display: flex;flex-direction: column;align-items: center;background-color: white;padding-right: 0.2em;padding-left: 0.2em;position: relative;}#sk-container-id-2 div.sk-item {position: relative;z-index: 1;}#sk-container-id-2 div.sk-parallel {display: flex;align-items: stretch;justify-content: center;background-color: white;position: relative;}#sk-container-id-2 div.sk-item::before, #sk-container-id-2 div.sk-parallel-item::before {content: \"\";position: absolute;border-left: 1px solid gray;box-sizing: border-box;top: 0;bottom: 0;left: 50%;z-index: -1;}#sk-container-id-2 div.sk-parallel-item {display: flex;flex-direction: column;z-index: 1;position: relative;background-color: white;}#sk-container-id-2 div.sk-parallel-item:first-child::after {align-self: flex-end;width: 50%;}#sk-container-id-2 div.sk-parallel-item:last-child::after {align-self: flex-start;width: 50%;}#sk-container-id-2 div.sk-parallel-item:only-child::after {width: 0;}#sk-container-id-2 div.sk-dashed-wrapped {border: 1px dashed gray;margin: 0 0.4em 0.5em 0.4em;box-sizing: border-box;padding-bottom: 0.4em;background-color: white;}#sk-container-id-2 div.sk-label label {font-family: monospace;font-weight: bold;display: inline-block;line-height: 1.2em;}#sk-container-id-2 div.sk-label-container {text-align: center;}#sk-container-id-2 div.sk-container {/* jupyter's `normalize.less` sets `[hidden] { display: none; }` but bootstrap.min.css set `[hidden] { display: none !important; }` so we also need the `!important` here to be able to override the default hidden behavior on the sphinx rendered scikit-learn.org. See: https://github.com/scikit-learn/scikit-learn/issues/21755 */display: inline-block !important;position: relative;}#sk-container-id-2 div.sk-text-repr-fallback {display: none;}</style><div id=\"sk-container-id-2\" class=\"sk-top-container\"><div class=\"sk-text-repr-fallback\"><pre>GridSearchCV(cv=10, estimator=RandomForestClassifier(),\n",
       "             param_grid={&#x27;max_depth&#x27;: [None], &#x27;min_samples_leaf&#x27;: [1],\n",
       "                         &#x27;min_samples_split&#x27;: [2], &#x27;n_estimators&#x27;: [10]},\n",
       "             scoring=&#x27;accuracy&#x27;)</pre><b>In a Jupyter environment, please rerun this cell to show the HTML representation or trust the notebook. <br />On GitHub, the HTML representation is unable to render, please try loading this page with nbviewer.org.</b></div><div class=\"sk-container\" hidden><div class=\"sk-item sk-dashed-wrapped\"><div class=\"sk-label-container\"><div class=\"sk-label sk-toggleable\"><input class=\"sk-toggleable__control sk-hidden--visually\" id=\"sk-estimator-id-4\" type=\"checkbox\" ><label for=\"sk-estimator-id-4\" class=\"sk-toggleable__label sk-toggleable__label-arrow\">GridSearchCV</label><div class=\"sk-toggleable__content\"><pre>GridSearchCV(cv=10, estimator=RandomForestClassifier(),\n",
       "             param_grid={&#x27;max_depth&#x27;: [None], &#x27;min_samples_leaf&#x27;: [1],\n",
       "                         &#x27;min_samples_split&#x27;: [2], &#x27;n_estimators&#x27;: [10]},\n",
       "             scoring=&#x27;accuracy&#x27;)</pre></div></div></div><div class=\"sk-parallel\"><div class=\"sk-parallel-item\"><div class=\"sk-item\"><div class=\"sk-label-container\"><div class=\"sk-label sk-toggleable\"><input class=\"sk-toggleable__control sk-hidden--visually\" id=\"sk-estimator-id-5\" type=\"checkbox\" ><label for=\"sk-estimator-id-5\" class=\"sk-toggleable__label sk-toggleable__label-arrow\">estimator: RandomForestClassifier</label><div class=\"sk-toggleable__content\"><pre>RandomForestClassifier()</pre></div></div></div><div class=\"sk-serial\"><div class=\"sk-item\"><div class=\"sk-estimator sk-toggleable\"><input class=\"sk-toggleable__control sk-hidden--visually\" id=\"sk-estimator-id-6\" type=\"checkbox\" ><label for=\"sk-estimator-id-6\" class=\"sk-toggleable__label sk-toggleable__label-arrow\">RandomForestClassifier</label><div class=\"sk-toggleable__content\"><pre>RandomForestClassifier()</pre></div></div></div></div></div></div></div></div></div></div>"
      ],
      "text/plain": [
       "GridSearchCV(cv=10, estimator=RandomForestClassifier(),\n",
       "             param_grid={'max_depth': [None], 'min_samples_leaf': [1],\n",
       "                         'min_samples_split': [2], 'n_estimators': [10]},\n",
       "             scoring='accuracy')"
      ]
     },
     "execution_count": 83,
     "metadata": {},
     "output_type": "execute_result"
    }
   ],
   "source": [
    "grid = {'max_depth':[None],\n",
    "              'n_estimators':[10],\n",
    "\n",
    "              'min_samples_leaf':[1],\n",
    "              'min_samples_split':[2]\n",
    "           }\n",
    "\n",
    "randf_grid = GridSearchCV(cls, grid, cv=10, scoring='accuracy')\n",
    "randf_grid.fit(X_train,y_train.ravel())"
   ]
  },
  {
   "cell_type": "code",
   "execution_count": 84,
   "metadata": {},
   "outputs": [
    {
     "data": {
      "text/plain": [
       "{'max_depth': None,\n",
       " 'min_samples_leaf': 1,\n",
       " 'min_samples_split': 2,\n",
       " 'n_estimators': 10}"
      ]
     },
     "execution_count": 84,
     "metadata": {},
     "output_type": "execute_result"
    }
   ],
   "source": [
    "randf_grid.best_params_"
   ]
  },
  {
   "cell_type": "code",
   "execution_count": 85,
   "metadata": {},
   "outputs": [
    {
     "data": {
      "text/html": [
       "<div>\n",
       "<style scoped>\n",
       "    .dataframe tbody tr th:only-of-type {\n",
       "        vertical-align: middle;\n",
       "    }\n",
       "\n",
       "    .dataframe tbody tr th {\n",
       "        vertical-align: top;\n",
       "    }\n",
       "\n",
       "    .dataframe thead th {\n",
       "        text-align: right;\n",
       "    }\n",
       "</style>\n",
       "<table border=\"1\" class=\"dataframe\">\n",
       "  <thead>\n",
       "    <tr style=\"text-align: right;\">\n",
       "      <th></th>\n",
       "      <th>mean_fit_time</th>\n",
       "      <th>std_fit_time</th>\n",
       "      <th>mean_score_time</th>\n",
       "      <th>std_score_time</th>\n",
       "      <th>param_max_depth</th>\n",
       "      <th>param_min_samples_leaf</th>\n",
       "      <th>param_min_samples_split</th>\n",
       "      <th>param_n_estimators</th>\n",
       "      <th>params</th>\n",
       "      <th>split0_test_score</th>\n",
       "      <th>...</th>\n",
       "      <th>split3_test_score</th>\n",
       "      <th>split4_test_score</th>\n",
       "      <th>split5_test_score</th>\n",
       "      <th>split6_test_score</th>\n",
       "      <th>split7_test_score</th>\n",
       "      <th>split8_test_score</th>\n",
       "      <th>split9_test_score</th>\n",
       "      <th>mean_test_score</th>\n",
       "      <th>std_test_score</th>\n",
       "      <th>rank_test_score</th>\n",
       "    </tr>\n",
       "  </thead>\n",
       "  <tbody>\n",
       "    <tr>\n",
       "      <th>0</th>\n",
       "      <td>0.937558</td>\n",
       "      <td>0.017512</td>\n",
       "      <td>0.013763</td>\n",
       "      <td>0.000979</td>\n",
       "      <td>None</td>\n",
       "      <td>1</td>\n",
       "      <td>2</td>\n",
       "      <td>10</td>\n",
       "      <td>{'max_depth': None, 'min_samples_leaf': 1, 'mi...</td>\n",
       "      <td>0.741198</td>\n",
       "      <td>...</td>\n",
       "      <td>0.72483</td>\n",
       "      <td>0.739345</td>\n",
       "      <td>0.733169</td>\n",
       "      <td>0.739883</td>\n",
       "      <td>0.728452</td>\n",
       "      <td>0.744517</td>\n",
       "      <td>0.73772</td>\n",
       "      <td>0.735545</td>\n",
       "      <td>0.005825</td>\n",
       "      <td>1</td>\n",
       "    </tr>\n",
       "  </tbody>\n",
       "</table>\n",
       "<p>1 rows × 22 columns</p>\n",
       "</div>"
      ],
      "text/plain": [
       "   mean_fit_time  std_fit_time  mean_score_time  std_score_time  \\\n",
       "0       0.937558      0.017512         0.013763        0.000979   \n",
       "\n",
       "  param_max_depth param_min_samples_leaf param_min_samples_split  \\\n",
       "0            None                      1                       2   \n",
       "\n",
       "  param_n_estimators                                             params  \\\n",
       "0                 10  {'max_depth': None, 'min_samples_leaf': 1, 'mi...   \n",
       "\n",
       "   split0_test_score  ...  split3_test_score  split4_test_score  \\\n",
       "0           0.741198  ...            0.72483           0.739345   \n",
       "\n",
       "   split5_test_score  split6_test_score  split7_test_score  split8_test_score  \\\n",
       "0           0.733169           0.739883           0.728452           0.744517   \n",
       "\n",
       "   split9_test_score  mean_test_score  std_test_score  rank_test_score  \n",
       "0            0.73772         0.735545        0.005825                1  \n",
       "\n",
       "[1 rows x 22 columns]"
      ]
     },
     "execution_count": 85,
     "metadata": {},
     "output_type": "execute_result"
    }
   ],
   "source": [
    "randf_grid.cv_results_\n",
    "grid_table = pd.DataFrame(randf_grid.cv_results_)\n",
    "grid_table.head()"
   ]
  },
  {
   "cell_type": "code",
   "execution_count": 86,
   "metadata": {},
   "outputs": [
    {
     "name": "stdout",
     "output_type": "stream",
     "text": [
      "mean_fit_time\n",
      "std_fit_time\n",
      "mean_score_time\n",
      "std_score_time\n",
      "param_max_depth\n",
      "param_min_samples_leaf\n",
      "param_min_samples_split\n",
      "param_n_estimators\n",
      "params\n",
      "split0_test_score\n",
      "split1_test_score\n",
      "split2_test_score\n",
      "split3_test_score\n",
      "split4_test_score\n",
      "split5_test_score\n",
      "split6_test_score\n",
      "split7_test_score\n",
      "split8_test_score\n",
      "split9_test_score\n",
      "mean_test_score\n",
      "std_test_score\n",
      "rank_test_score\n"
     ]
    }
   ],
   "source": [
    "for col in grid_table.columns:\n",
    "  print(col)"
   ]
  },
  {
   "cell_type": "code",
   "execution_count": 87,
   "metadata": {},
   "outputs": [
    {
     "data": {
      "text/html": [
       "<div>\n",
       "<style scoped>\n",
       "    .dataframe tbody tr th:only-of-type {\n",
       "        vertical-align: middle;\n",
       "    }\n",
       "\n",
       "    .dataframe tbody tr th {\n",
       "        vertical-align: top;\n",
       "    }\n",
       "\n",
       "    .dataframe thead th {\n",
       "        text-align: right;\n",
       "    }\n",
       "</style>\n",
       "<table border=\"1\" class=\"dataframe\">\n",
       "  <thead>\n",
       "    <tr style=\"text-align: right;\">\n",
       "      <th></th>\n",
       "      <th>params</th>\n",
       "      <th>mean_test_score</th>\n",
       "      <th>std_test_score</th>\n",
       "      <th>rank_test_score</th>\n",
       "    </tr>\n",
       "  </thead>\n",
       "  <tbody>\n",
       "    <tr>\n",
       "      <th>0</th>\n",
       "      <td>{'max_depth': None, 'min_samples_leaf': 1, 'mi...</td>\n",
       "      <td>0.735545</td>\n",
       "      <td>0.005825</td>\n",
       "      <td>1</td>\n",
       "    </tr>\n",
       "  </tbody>\n",
       "</table>\n",
       "</div>"
      ],
      "text/plain": [
       "                                              params  mean_test_score  \\\n",
       "0  {'max_depth': None, 'min_samples_leaf': 1, 'mi...         0.735545   \n",
       "\n",
       "   std_test_score  rank_test_score  \n",
       "0        0.005825                1  "
      ]
     },
     "execution_count": 87,
     "metadata": {},
     "output_type": "execute_result"
    }
   ],
   "source": [
    "grid_table_rank = grid_table[['params','mean_test_score','std_test_score','rank_test_score']].sort_values(by='rank_test_score', ascending=True)\n",
    "grid_table_rank"
   ]
  },
  {
   "cell_type": "markdown",
   "metadata": {},
   "source": [
    "### XGBOOST"
   ]
  },
  {
   "cell_type": "code",
   "execution_count": 88,
   "metadata": {},
   "outputs": [
    {
     "name": "stdout",
     "output_type": "stream",
     "text": [
      "Defaulting to user installation because normal site-packages is not writeable\n",
      "Requirement already satisfied: xgboost in c:\\users\\lenovo\\appdata\\roaming\\python\\python310\\site-packages (1.7.2)\n",
      "Requirement already satisfied: scipy in c:\\users\\lenovo\\appdata\\roaming\\python\\python310\\site-packages (from xgboost) (1.9.3)\n",
      "Requirement already satisfied: numpy in c:\\users\\lenovo\\appdata\\roaming\\python\\python310\\site-packages (from xgboost) (1.23.5)\n"
     ]
    }
   ],
   "source": [
    "from sklearn.metrics import classification_report\n",
    "!pip install xgboost\n",
    "from xgboost import XGBClassifier\n",
    "import time"
   ]
  },
  {
   "cell_type": "code",
   "execution_count": 89,
   "metadata": {},
   "outputs": [
    {
     "name": "stdout",
     "output_type": "stream",
     "text": [
      "              precision    recall  f1-score   support\n",
      "\n",
      "           0       0.73      0.70      0.72      2927\n",
      "           1       0.78      0.78      0.78      5965\n",
      "           2       0.64      0.68      0.66      1901\n",
      "\n",
      "    accuracy                           0.74     10793\n",
      "   macro avg       0.72      0.72      0.72     10793\n",
      "weighted avg       0.75      0.74      0.74     10793\n",
      "\n"
     ]
    }
   ],
   "source": [
    "boost_att = XGBClassifier()\n",
    "boost_att.fit(X_train, y_train)\n",
    "y_pred = boost_att.predict(X_test)\n",
    "print(classification_report(y_test, y_pred))"
   ]
  },
  {
   "cell_type": "code",
   "execution_count": 90,
   "metadata": {},
   "outputs": [
    {
     "name": "stderr",
     "output_type": "stream",
     "text": [
      "C:\\Users\\LENOVO\\AppData\\Roaming\\Python\\Python310\\site-packages\\sklearn\\utils\\deprecation.py:87: FutureWarning: Function plot_confusion_matrix is deprecated; Function `plot_confusion_matrix` is deprecated in 1.0 and will be removed in 1.2. Use one of the class methods: ConfusionMatrixDisplay.from_predictions or ConfusionMatrixDisplay.from_estimator.\n",
      "  warnings.warn(msg, category=FutureWarning)\n"
     ]
    },
    {
     "data": {
      "image/png": "[encoded data removed]",
      "text/plain": [
       "<Figure size 432x288 with 2 Axes>"
      ]
     },
     "metadata": {
      "needs_background": "light"
     },
     "output_type": "display_data"
    }
   ],
   "source": [
    "from sklearn.metrics import confusion_matrix, plot_confusion_matrix\n",
    "cm_boost = confusion_matrix(y_test, y_pred)\n",
    "\n",
    "disp = plot_confusion_matrix(boost_att, X_test, y_test, cmap=plt.cm.Blues)"
   ]
  }
 ],
 "metadata": {
  "kernelspec": {
   "display_name": "Python 3",
   "language": "python",
   "name": "python3"
  },
  "language_info": {
   "codemirror_mode": {
    "name": "ipython",
    "version": 3
   },
   "file_extension": ".py",
   "mimetype": "text/x-python",
   "name": "python",
   "nbconvert_exporter": "python",
   "pygments_lexer": "ipython3",
   "version": "3.10.4"
  },
  "vscode": {
   "interpreter": {
    "hash": "26de051ba29f2982a8de78e945f0abaf191376122a1563185a90213a26c5da77"
   }
  }
 },
 "nbformat": 4,
 "nbformat_minor": 2
}
